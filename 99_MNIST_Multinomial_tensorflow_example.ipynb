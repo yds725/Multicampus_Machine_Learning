{
 "cells": [
  {
   "cell_type": "markdown",
   "metadata": {},
   "source": [
    "#### Multinomial classification\n",
    "=> MNIST 예제를 이용해서 보완해야 하는 부분들을 알아보아요!\n",
    "=> MNIST 이미지를 학습하고 prediction하는 예제 24 * 24 크기의 이미지가 주어져요!\n",
    "\n",
    "=> 텐서플로우에서 제공하는 MNIST예제를 이용해서 조금 편하게 작업을 해 볼꺼에요!\n",
    "\n",
    "24 * 24\n",
    "\n",
    "=> 요것은 이미지를 데이터 처리하는 것 ? \n",
    "\n",
    "#### 이미지 파일을 데이타화 해서 풀어라\n",
    "##### 딥러닝을 이용해 \n",
    "\n",
    "#### 캐글을 이용하지 않고 텐서플로우 "
   ]
  },
  {
   "cell_type": "code",
   "execution_count": 4,
   "metadata": {},
   "outputs": [
    {
     "name": "stdout",
     "output_type": "stream",
     "text": [
      "Successfully downloaded train-images-idx3-ubyte.gz 9912422 bytes.\n",
      "Extracting ./data/mnist\\train-images-idx3-ubyte.gz\n",
      "Successfully downloaded train-labels-idx1-ubyte.gz 28881 bytes.\n",
      "Extracting ./data/mnist\\train-labels-idx1-ubyte.gz\n",
      "Successfully downloaded t10k-images-idx3-ubyte.gz 1648877 bytes.\n",
      "Extracting ./data/mnist\\t10k-images-idx3-ubyte.gz\n",
      "Successfully downloaded t10k-labels-idx1-ubyte.gz 4542 bytes.\n",
      "Extracting ./data/mnist\\t10k-labels-idx1-ubyte.gz\n"
     ]
    }
   ],
   "source": [
    "# 필요한 모듈 임포트\n",
    "import tensorflow as tf\n",
    "import pandas as pd\n",
    "import numpy as np\n",
    "import matplotlib.pyplot as plt\n",
    "# MNIST 데이터 다운로드\n",
    "# 이미지 파일 데이타 셋이 폴더에 다운로드 받아진다\n",
    "from tensorflow.examples.tutorials.mnist import input_data\n",
    "# Data Loading\n",
    "mnist = input_data.read_data_sets(\"./data/mnist\", one_hot=True)\n",
    "\n"
   ]
  },
  {
   "cell_type": "code",
   "execution_count": 89,
   "metadata": {},
   "outputs": [
    {
     "name": "stdout",
     "output_type": "stream",
     "text": [
      "       0    1    2    3    4    5    6    7    8    9    ...  774  775  776  \\\n",
      "0      0.0  0.0  0.0  0.0  0.0  0.0  0.0  0.0  0.0  0.0  ...  0.0  0.0  0.0   \n",
      "1      0.0  0.0  0.0  0.0  0.0  0.0  0.0  0.0  0.0  0.0  ...  0.0  0.0  0.0   \n",
      "2      0.0  0.0  0.0  0.0  0.0  0.0  0.0  0.0  0.0  0.0  ...  0.0  0.0  0.0   \n",
      "3      0.0  0.0  0.0  0.0  0.0  0.0  0.0  0.0  0.0  0.0  ...  0.0  0.0  0.0   \n",
      "4      0.0  0.0  0.0  0.0  0.0  0.0  0.0  0.0  0.0  0.0  ...  0.0  0.0  0.0   \n",
      "...    ...  ...  ...  ...  ...  ...  ...  ...  ...  ...  ...  ...  ...  ...   \n",
      "54995  0.0  0.0  0.0  0.0  0.0  0.0  0.0  0.0  0.0  0.0  ...  0.0  0.0  0.0   \n",
      "54996  0.0  0.0  0.0  0.0  0.0  0.0  0.0  0.0  0.0  0.0  ...  0.0  0.0  0.0   \n",
      "54997  0.0  0.0  0.0  0.0  0.0  0.0  0.0  0.0  0.0  0.0  ...  0.0  0.0  0.0   \n",
      "54998  0.0  0.0  0.0  0.0  0.0  0.0  0.0  0.0  0.0  0.0  ...  0.0  0.0  0.0   \n",
      "54999  0.0  0.0  0.0  0.0  0.0  0.0  0.0  0.0  0.0  0.0  ...  0.0  0.0  0.0   \n",
      "\n",
      "       777  778  779  780  781  782  783  \n",
      "0      0.0  0.0  0.0  0.0  0.0  0.0  0.0  \n",
      "1      0.0  0.0  0.0  0.0  0.0  0.0  0.0  \n",
      "2      0.0  0.0  0.0  0.0  0.0  0.0  0.0  \n",
      "3      0.0  0.0  0.0  0.0  0.0  0.0  0.0  \n",
      "4      0.0  0.0  0.0  0.0  0.0  0.0  0.0  \n",
      "...    ...  ...  ...  ...  ...  ...  ...  \n",
      "54995  0.0  0.0  0.0  0.0  0.0  0.0  0.0  \n",
      "54996  0.0  0.0  0.0  0.0  0.0  0.0  0.0  \n",
      "54997  0.0  0.0  0.0  0.0  0.0  0.0  0.0  \n",
      "54998  0.0  0.0  0.0  0.0  0.0  0.0  0.0  \n",
      "54999  0.0  0.0  0.0  0.0  0.0  0.0  0.0  \n",
      "\n",
      "[55000 rows x 784 columns]\n"
     ]
    }
   ],
   "source": [
    "# Data Loading\n",
    "mnist.train.images.shape\n",
    "\n",
    "\n",
    "\n",
    "#  학습할 픽셀(바이트)로 이루어진 이미지 파일 데이타 프레임 된 ?\n",
    "train_x_data_df = pd.DataFrame(mnist.train.images)\n",
    "\n",
    "print(train_x_data_df)\n",
    "\n",
    "train_x_data_df.to_csv(\"./mnist_x_data.csv\", index = False)\n",
    "# x 데이타의 각 컬럼은 (각 픽셀 값은) 0과 1 사이의 값으로\n",
    "# 이미 스케일이 되어 있는 상태이다? \n",
    "# 0과 가까울수록 흰생을 지칭, 1과 가까울수록 색상이 어두워저요\n",
    "\n",
    "\n"
   ]
  },
  {
   "cell_type": "code",
   "execution_count": 100,
   "metadata": {},
   "outputs": [
    {
     "data": {
      "text/plain": [
       "array([[0., 0., 0., ..., 0., 0., 0.],\n",
       "       [0., 0., 0., ..., 0., 0., 0.],\n",
       "       [0., 0., 0., ..., 0., 0., 0.],\n",
       "       ...,\n",
       "       [0., 0., 0., ..., 0., 0., 0.],\n",
       "       [0., 0., 0., ..., 0., 0., 0.],\n",
       "       [0., 0., 0., ..., 0., 0., 0.]], dtype=float32)"
      ]
     },
     "execution_count": 100,
     "metadata": {},
     "output_type": "execute_result"
    }
   ],
   "source": [
    "mnist.train.images"
   ]
  },
  {
   "cell_type": "code",
   "execution_count": 90,
   "metadata": {},
   "outputs": [
    {
     "name": "stdout",
     "output_type": "stream",
     "text": [
      "55000\n"
     ]
    }
   ],
   "source": [
    "print(mnist.train.num_examples)"
   ]
  },
  {
   "cell_type": "code",
   "execution_count": 8,
   "metadata": {},
   "outputs": [],
   "source": [
    "# 이제 학습할 라벨 데이터를 데이타 프레임으로 변환시키고 \n",
    "train_y_data_df = pd.DataFrame(mnist.train.labels)\n",
    "# csv파일로 만들어요\n",
    "train_y_data_df.to_csv(\"./mnist_y_data.csv\", index = False)"
   ]
  },
  {
   "cell_type": "code",
   "execution_count": 88,
   "metadata": {},
   "outputs": [
    {
     "name": "stdout",
     "output_type": "stream",
     "text": [
      "         0    1    2    3    4    5    6    7    8    9\n",
      "0      0.0  0.0  0.0  0.0  0.0  0.0  0.0  1.0  0.0  0.0\n",
      "1      0.0  0.0  0.0  1.0  0.0  0.0  0.0  0.0  0.0  0.0\n",
      "2      0.0  0.0  0.0  0.0  1.0  0.0  0.0  0.0  0.0  0.0\n",
      "3      0.0  0.0  0.0  0.0  0.0  0.0  1.0  0.0  0.0  0.0\n",
      "4      0.0  1.0  0.0  0.0  0.0  0.0  0.0  0.0  0.0  0.0\n",
      "...    ...  ...  ...  ...  ...  ...  ...  ...  ...  ...\n",
      "54995  0.0  0.0  0.0  0.0  0.0  0.0  0.0  0.0  1.0  0.0\n",
      "54996  0.0  0.0  0.0  1.0  0.0  0.0  0.0  0.0  0.0  0.0\n",
      "54997  0.0  0.0  0.0  0.0  0.0  1.0  0.0  0.0  0.0  0.0\n",
      "54998  0.0  0.0  0.0  0.0  0.0  0.0  1.0  0.0  0.0  0.0\n",
      "54999  0.0  0.0  0.0  0.0  0.0  0.0  0.0  0.0  1.0  0.0\n",
      "\n",
      "[55000 rows x 10 columns]\n"
     ]
    }
   ],
   "source": [
    "print(train_y_data_df)"
   ]
  },
  {
   "cell_type": "code",
   "execution_count": 15,
   "metadata": {},
   "outputs": [],
   "source": [
    "# tensorflow로 머신러닝\n",
    "# placeholder \n",
    "X = tf.placeholder(shape=[None, 784], dtype=tf.float32)\n",
    "Y = tf.placeholder(shape=[None, 10], dtype=tf.float32)\n",
    "\n",
    "# Weight & bias\n",
    "W = tf.Variable(tf.random_normal([784,10]), name=\"weight\")\n",
    "b = tf.Variable(tf.random_normal([10]), name=\"bias\")\n",
    "\n",
    "# Hypothesis\n",
    "logit = tf.matmul(X, W) + b\n",
    "H = tf.nn.softmax(logit)\n",
    "# Cost\n",
    "cost = tf.reduce_mean(tf.nn.softmax_cross_entropy_with_logits_v2(logits=logit, labels = Y) )\n",
    "# train\n",
    "train = tf.train.GradientDescentOptimizer(learning_rate=0.1).minimize(cost)\n",
    "\n",
    "# session initializatin\n",
    "sess = tf.Session()\n",
    "sess.run(tf.global_variables_initializer())"
   ]
  },
  {
   "cell_type": "code",
   "execution_count": 24,
   "metadata": {},
   "outputs": [
    {
     "name": "stdout",
     "output_type": "stream",
     "text": [
      "Cost value: 1.0748836994171143\n",
      "Cost value: 0.6003679037094116\n",
      "Cost value: 0.5033334493637085\n",
      "Cost value: 0.3403369188308716\n",
      "Cost value: 0.42929571866989136\n",
      "Cost value: 0.22575248777866364\n",
      "Cost value: 0.31453514099121094\n",
      "Cost value: 0.5383284091949463\n",
      "Cost value: 0.410534143447876\n",
      "Cost value: 0.37949520349502563\n"
     ]
    }
   ],
   "source": [
    "# 학습\n",
    "# 데이터 사이즈를 보고 전체 epoch수를 판단\n",
    "# epoch수를 많으면 많을 수록 학습의 효과 가 늘어나지만 시간이 너무 걸린다\n",
    "# 따라서 적절한 epoch수를 결정\n",
    "train_epoch = 30\n",
    "\n",
    "# 배치 사이즈를 설정해서 실제 데이터를 몇 개씩 나눠서 학습할 지 생각해준다\n",
    "batch_size = 100\n",
    "\n",
    "# 피드 딕트에 X 쪽 이미지 밸류 Y 쪽 이미지 밸류\n",
    "for step in range(train_epoch):\n",
    "    \n",
    "    #  학습용 데이터에서 100개씩 뜯어오는 느낌이다\n",
    "    num_of_iter = int( mnist.train.num_examples / batch_size )\n",
    "    cost_val =0\n",
    "    \n",
    "    for i in range(num_of_iter):\n",
    "        batch_x, batch_y = mnist.train.next_batch(batch_size)\n",
    "        # X 랑 Y를 batch_x batch_y\n",
    "        _, cost_val = sess.run([train,cost], feed_dict={X:batch_x, \n",
    "                                                    Y:batch_y})\n",
    "    if step % 3 == 0:\n",
    "        print(\"Cost value: {}\".format(cost_val))\n",
    "    \n",
    "    "
   ]
  },
  {
   "cell_type": "code",
   "execution_count": null,
   "metadata": {},
   "outputs": [],
   "source": [
    "# "
   ]
  },
  {
   "cell_type": "code",
   "execution_count": null,
   "metadata": {},
   "outputs": [],
   "source": [
    "# 요 아래는 배치 사이즈를 쓰지않고 학습하지 않았을 떄 \n",
    "\n",
    "# for step in range(train_epoch):\n",
    "    \n",
    "#     #  학습용 데이터에서 100개씩 뜯어오는 느낌이다\n",
    "#     # X 랑 Y를 batch_x batch_y\n",
    "#     _, cost_val = sess.run([train,cost], feed_dict={X:mnist.train.images, \n",
    "#                                                     Y:mnist.train.labels})\n",
    "#     if step % 3 == 0:\n",
    "#         print(\"Cost value: {}\".format(cost_val))"
   ]
  },
  {
   "cell_type": "code",
   "execution_count": 95,
   "metadata": {},
   "outputs": [
    {
     "name": "stdout",
     "output_type": "stream",
     "text": [
      "(10000, 784)\n",
      "[[0. 0. 0. ... 1. 0. 0.]\n",
      " [0. 0. 1. ... 0. 0. 0.]\n",
      " [0. 1. 0. ... 0. 0. 0.]\n",
      " ...\n",
      " [0. 0. 0. ... 0. 0. 0.]\n",
      " [0. 0. 0. ... 0. 0. 0.]\n",
      " [0. 0. 0. ... 0. 0. 0.]]\n"
     ]
    }
   ],
   "source": [
    "print(mnist.test.images.shape)\n",
    "print(mnist.test.labels)"
   ]
  },
  {
   "cell_type": "code",
   "execution_count": 25,
   "metadata": {},
   "outputs": [
    {
     "name": "stdout",
     "output_type": "stream",
     "text": [
      "Accuracy: 0.9039999842643738\n"
     ]
    }
   ],
   "source": [
    "# 학습이 종료되었으니 정확도를 측정해야 해요!\n",
    "# 그런데 정확도가 크게 안나온다 그래도 epoch을 100으로 늘리면 50\n",
    "# epcch수를 늘리면 늘릴 수록 정확도는 높아지지만 학습 시간이 오래 걸리긴한다\n",
    "\n",
    "\n",
    "# 확실히 배치 사이즈를 이용했을때 정확도가 확 높아진다. 90정도로\n",
    "predict = tf.argmax(H,1)\n",
    "correct = tf.equal(predict, tf.argmax(Y,1))\n",
    "accuracy = tf.reduce_mean(tf.cast(correct, dtype=tf.float32) )\n",
    "print(\"Accuracy: {}\".format(sess.run(accuracy, feed_dict={X:mnist.test.images, Y:mnist.test.labels})))\n"
   ]
  },
  {
   "cell_type": "code",
   "execution_count": 87,
   "metadata": {},
   "outputs": [
    {
     "name": "stdout",
     "output_type": "stream",
     "text": [
      "Label: [9]\n",
      "Predict: [9]\n"
     ]
    },
    {
     "data": {
      "text/plain": [
       "<matplotlib.image.AxesImage at 0x2505f7e6828>"
      ]
     },
     "execution_count": 87,
     "metadata": {},
     "output_type": "execute_result"
    },
    {
     "data": {
      "image/png": "[encoded data removed]",
      "text/plain": [
       "<Figure size 432x288 with 1 Axes>"
      ]
     },
     "metadata": {
      "needs_background": "light"
     },
     "output_type": "display_data"
    }
   ],
   "source": [
    "# Prediction\n",
    "# 랜덤으로 하나의 데이터를 추출해서 그놈을 이용해서 프리딕션을 한 후 결과를 비교해 보아요\n",
    "# mnist.train.num_examples\n",
    "\n",
    "# 랜덤변수을 테스트 데이타의 전체 로우 수와 0 사이 구한다\n",
    "r = np.random.randint(0, mnist.test.num_examples)\n",
    "\n",
    "\n",
    "\n",
    "# 난수가 의미하는 라벨 값을 먼저 구해봄!\n",
    "#sess.run(tf.argmax(mnist.test.labels[r:r+1], axis=1)) \n",
    "print(\"Label: {}\".format(sess.run(tf.argmax(mnist.test.labels[r:r+1], axis=1))))\n",
    "print(\"Predict: {}\".format(sess.run(tf.argmax(H,1), feed_dict={X:mnist.test.images[r:r+1]}))) #sess.run(tf.argmax(H,1), feed_dict={X:mnist.test.images[r:r+1]})\n",
    "\n",
    "# mnist.test.images[r:r+1] -> 요게 바로 2차원 배열이다 \n",
    "\n",
    "# 돌릴 때마다 라벨과 다르게 프리딕트가 예측이 잘 안되는 그게 잇다\n",
    "plt.imshow(mnist.test.images[r:r+1].reshape(28,28)) # \n",
    "\n",
    "# reshape 28 * 28 = 784\n",
    "\n",
    "\n"
   ]
  },
  {
   "cell_type": "code",
   "execution_count": 105,
   "metadata": {},
   "outputs": [
    {
     "name": "stdout",
     "output_type": "stream",
     "text": [
      "(1, 784)\n",
      "[0.         0.         0.         0.         0.         0.\n",
      " 0.         0.         0.         0.         0.         0.\n",
      " 0.         0.         0.         0.         0.         0.\n",
      " 0.         0.         0.         0.         0.         0.\n",
      " 0.         0.         0.         0.         0.         0.\n",
      " 0.         0.         0.         0.         0.         0.\n",
      " 0.         0.         0.         0.         0.         0.\n",
      " 0.         0.         0.         0.         0.         0.\n",
      " 0.         0.         0.         0.         0.         0.\n",
      " 0.         0.         0.         0.         0.         0.\n",
      " 0.         0.         0.         0.         0.         0.\n",
      " 0.         0.         0.         0.         0.         0.\n",
      " 0.         0.         0.         0.         0.         0.\n",
      " 0.         0.         0.         0.         0.         0.\n",
      " 0.         0.         0.         0.         0.         0.\n",
      " 0.         0.         0.         0.         0.         0.\n",
      " 0.         0.         0.         0.         0.         0.\n",
      " 0.         0.         0.         0.         0.         0.\n",
      " 0.         0.         0.         0.         0.         0.\n",
      " 0.         0.         0.         0.         0.         0.\n",
      " 0.         0.         0.         0.         0.         0.\n",
      " 0.         0.         0.         0.         0.         0.\n",
      " 0.         0.         0.         0.         0.         0.\n",
      " 0.         0.         0.         0.         0.         0.\n",
      " 0.         0.         0.         0.         0.         0.\n",
      " 0.         0.         0.         0.         0.         0.\n",
      " 0.         0.         0.         0.         0.         0.\n",
      " 0.         0.         0.         0.         0.         0.\n",
      " 0.         0.         0.         0.         0.         0.\n",
      " 0.         0.         0.         0.         0.         0.\n",
      " 0.         0.         0.         0.         0.         0.\n",
      " 0.         0.         0.         0.         0.         0.\n",
      " 0.         0.         0.         0.         0.         0.\n",
      " 0.         0.         0.         0.         0.32941177 0.7254902\n",
      " 0.62352943 0.5921569  0.23529413 0.14117648 0.         0.\n",
      " 0.         0.         0.         0.         0.         0.\n",
      " 0.         0.         0.         0.         0.         0.\n",
      " 0.         0.         0.         0.         0.         0.\n",
      " 0.         0.         0.8705883  0.9960785  0.9960785  0.9960785\n",
      " 0.9960785  0.9450981  0.77647066 0.77647066 0.77647066 0.77647066\n",
      " 0.77647066 0.77647066 0.77647066 0.77647066 0.6666667  0.20392159\n",
      " 0.         0.         0.         0.         0.         0.\n",
      " 0.         0.         0.         0.         0.         0.\n",
      " 0.2627451  0.44705886 0.28235295 0.44705886 0.6392157  0.89019614\n",
      " 0.9960785  0.882353   0.9960785  0.9960785  0.9960785  0.9803922\n",
      " 0.8980393  0.9960785  0.9960785  0.54901963 0.         0.\n",
      " 0.         0.         0.         0.         0.         0.\n",
      " 0.         0.         0.         0.         0.         0.\n",
      " 0.         0.         0.         0.06666667 0.25882354 0.05490196\n",
      " 0.2627451  0.2627451  0.2627451  0.23137257 0.08235294 0.92549026\n",
      " 0.9960785  0.4156863  0.         0.         0.         0.\n",
      " 0.         0.         0.         0.         0.         0.\n",
      " 0.         0.         0.         0.         0.         0.\n",
      " 0.         0.         0.         0.         0.         0.\n",
      " 0.         0.         0.3254902  0.9921569  0.8196079  0.07058824\n",
      " 0.         0.         0.         0.         0.         0.\n",
      " 0.         0.         0.         0.         0.         0.\n",
      " 0.         0.         0.         0.         0.         0.\n",
      " 0.         0.         0.         0.         0.         0.08627451\n",
      " 0.91372555 1.         0.3254902  0.         0.         0.\n",
      " 0.         0.         0.         0.         0.         0.\n",
      " 0.         0.         0.         0.         0.         0.\n",
      " 0.         0.         0.         0.         0.         0.\n",
      " 0.         0.         0.         0.5058824  0.9960785  0.9333334\n",
      " 0.17254902 0.         0.         0.         0.         0.\n",
      " 0.         0.         0.         0.         0.         0.\n",
      " 0.         0.         0.         0.         0.         0.\n",
      " 0.         0.         0.         0.         0.         0.\n",
      " 0.23137257 0.97647065 0.9960785  0.24313727 0.         0.\n",
      " 0.         0.         0.         0.         0.         0.\n",
      " 0.         0.         0.         0.         0.         0.\n",
      " 0.         0.         0.         0.         0.         0.\n",
      " 0.         0.         0.         0.         0.52156866 0.9960785\n",
      " 0.73333335 0.01960784 0.         0.         0.         0.\n",
      " 0.         0.         0.         0.         0.         0.\n",
      " 0.         0.         0.         0.         0.         0.\n",
      " 0.         0.         0.         0.         0.         0.\n",
      " 0.         0.03529412 0.80392164 0.9725491  0.227451   0.\n",
      " 0.         0.         0.         0.         0.         0.\n",
      " 0.         0.         0.         0.         0.         0.\n",
      " 0.         0.         0.         0.         0.         0.\n",
      " 0.         0.         0.         0.         0.         0.49411768\n",
      " 0.9960785  0.7137255  0.         0.         0.         0.\n",
      " 0.         0.         0.         0.         0.         0.\n",
      " 0.         0.         0.         0.         0.         0.\n",
      " 0.         0.         0.         0.         0.         0.\n",
      " 0.         0.         0.29411766 0.9843138  0.94117653 0.22352943\n",
      " 0.         0.         0.         0.         0.         0.\n",
      " 0.         0.         0.         0.         0.         0.\n",
      " 0.         0.         0.         0.         0.         0.\n",
      " 0.         0.         0.         0.         0.         0.07450981\n",
      " 0.86666673 0.9960785  0.6509804  0.         0.         0.\n",
      " 0.         0.         0.         0.         0.         0.\n",
      " 0.         0.         0.         0.         0.         0.\n",
      " 0.         0.         0.         0.         0.         0.\n",
      " 0.         0.         0.01176471 0.7960785  0.9960785  0.8588236\n",
      " 0.13725491 0.         0.         0.         0.         0.\n",
      " 0.         0.         0.         0.         0.         0.\n",
      " 0.         0.         0.         0.         0.         0.\n",
      " 0.         0.         0.         0.         0.         0.\n",
      " 0.14901961 0.9960785  0.9960785  0.3019608  0.         0.\n",
      " 0.         0.         0.         0.         0.         0.\n",
      " 0.         0.         0.         0.         0.         0.\n",
      " 0.         0.         0.         0.         0.         0.\n",
      " 0.         0.         0.         0.12156864 0.87843144 0.9960785\n",
      " 0.45098042 0.00392157 0.         0.         0.         0.\n",
      " 0.         0.         0.         0.         0.         0.\n",
      " 0.         0.         0.         0.         0.         0.\n",
      " 0.         0.         0.         0.         0.         0.\n",
      " 0.         0.52156866 0.9960785  0.9960785  0.20392159 0.\n",
      " 0.         0.         0.         0.         0.         0.\n",
      " 0.         0.         0.         0.         0.         0.\n",
      " 0.         0.         0.         0.         0.         0.\n",
      " 0.         0.         0.         0.         0.2392157  0.9490197\n",
      " 0.9960785  0.9960785  0.20392159 0.         0.         0.\n",
      " 0.         0.         0.         0.         0.         0.\n",
      " 0.         0.         0.         0.         0.         0.\n",
      " 0.         0.         0.         0.         0.         0.\n",
      " 0.         0.         0.47450984 0.9960785  0.9960785  0.8588236\n",
      " 0.15686275 0.         0.         0.         0.         0.\n",
      " 0.         0.         0.         0.         0.         0.\n",
      " 0.         0.         0.         0.         0.         0.\n",
      " 0.         0.         0.         0.         0.         0.\n",
      " 0.47450984 0.9960785  0.8117648  0.07058824 0.         0.\n",
      " 0.         0.         0.         0.         0.         0.\n",
      " 0.         0.         0.         0.         0.         0.\n",
      " 0.         0.         0.         0.         0.         0.\n",
      " 0.         0.         0.         0.         0.         0.\n",
      " 0.         0.         0.         0.         0.         0.\n",
      " 0.         0.         0.         0.         0.         0.\n",
      " 0.         0.         0.         0.        ]\n"
     ]
    }
   ],
   "source": [
    "print(mnist.test.images[r:r+1].shape)\n",
    "\n",
    "print(mnist.test.images[0])"
   ]
  }
 ],
 "metadata": {
  "kernelspec": {
   "display_name": "CPU2_ENV",
   "language": "python",
   "name": "cpu2_env"
  },
  "language_info": {
   "codemirror_mode": {
    "name": "ipython",
    "version": 3
   },
   "file_extension": ".py",
   "mimetype": "text/x-python",
   "name": "python",
   "nbconvert_exporter": "python",
   "pygments_lexer": "ipython3",
   "version": "3.6.9"
  }
 },
 "nbformat": 4,
 "nbformat_minor": 2
}
