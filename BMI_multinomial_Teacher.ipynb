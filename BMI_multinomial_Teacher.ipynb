{
 "cells": [
  {
   "cell_type": "code",
   "execution_count": 3,
   "metadata": {},
   "outputs": [],
   "source": [
    "# BMI 데이터를 학습한 후 자신의 키와 몸무게를 넣어서\n",
    "# 자신의 상태를 확인해보아요\n",
    "# bmi.csv를 가져가서 multinomial 문제를 학습해보아요!\n",
    "\n",
    "import tensorflow as tf\n",
    "import numpy as np\n",
    "import pandas as pd\n",
    "import matplotlib.pyplot as plt\n",
    "import warnings \n",
    "from sklearn.preprocessing import MinMaxScaler\n",
    "\n",
    "#warning.filterwarnings(action = '')\n"
   ]
  },
  {
   "cell_type": "code",
   "execution_count": 5,
   "metadata": {},
   "outputs": [
    {
     "name": "stdout",
     "output_type": "stream",
     "text": [
      "label     0\n",
      "height    0\n",
      "weight    0\n",
      "dtype: int64\n"
     ]
    },
    {
     "data": {
      "text/plain": [
       "{'whiskers': [<matplotlib.lines.Line2D at 0x1fcc0d336a0>,\n",
       "  <matplotlib.lines.Line2D at 0x1fcc0d33a20>],\n",
       " 'caps': [<matplotlib.lines.Line2D at 0x1fcc0d33d68>,\n",
       "  <matplotlib.lines.Line2D at 0x1fcc0d3d0f0>],\n",
       " 'boxes': [<matplotlib.lines.Line2D at 0x1fcc0d16c50>],\n",
       " 'medians': [<matplotlib.lines.Line2D at 0x1fcc0d3d438>],\n",
       " 'fliers': [<matplotlib.lines.Line2D at 0x1fcc0d3d780>],\n",
       " 'means': []}"
      ]
     },
     "execution_count": 5,
     "metadata": {},
     "output_type": "execute_result"
    },
    {
     "data": {
      "image/png": "[encoded data removed]",
      "text/plain": [
       "<Figure size 432x288 with 1 Axes>"
      ]
     },
     "metadata": {
      "needs_background": "light"
     },
     "output_type": "display_data"
    }
   ],
   "source": [
    "#data loading\n",
    "data_df = pd.read_csv(\"./data/bmi.csv\", skiprows=3)\n",
    "\n",
    "# 결측치 확인 \n",
    "print(data_df.isnull().sum(axis=0)) # 확인한 결과\n",
    "# 이상치 확인\n",
    "plt.boxplot(data_df[\"weight\"])\n",
    "plt.boxplot(data_df[\"height\"])\n",
    "\n",
    "# 확인하니 별거 없네요\n",
    "\n"
   ]
  },
  {
   "cell_type": "code",
   "execution_count": 34,
   "metadata": {},
   "outputs": [
    {
     "name": "stdout",
     "output_type": "stream",
     "text": [
      "16000\n",
      "       height  weight\n",
      "0         188      71\n",
      "1         161      68\n",
      "2         178      52\n",
      "3         136      63\n",
      "4         145      52\n",
      "...       ...     ...\n",
      "15996     164      63\n",
      "15997     161      73\n",
      "15998     185      41\n",
      "15999     171      72\n",
      "16000     147      53\n",
      "\n",
      "[16001 rows x 2 columns]\n"
     ]
    }
   ],
   "source": [
    "# train, test data set 생성\n",
    "# 80퍼센트 만 트레이닝 데이타로 삼고\n",
    "split_num = int(data_df.shape[0] * 0.8)\n",
    "print(split_num)\n",
    "\n",
    "tr_x_data = data_df.loc[:split_num, ['height','weight']]\n",
    "print(tr_x_data)"
   ]
  },
  {
   "cell_type": "code",
   "execution_count": 35,
   "metadata": {},
   "outputs": [
    {
     "name": "stdout",
     "output_type": "stream",
     "text": [
      "[[0.85       0.8       ]\n",
      " [0.5125     0.73333333]\n",
      " [0.725      0.37777778]\n",
      " ...\n",
      " [0.8125     0.13333333]\n",
      " [0.6375     0.82222222]\n",
      " [0.3375     0.4       ]]\n"
     ]
    },
    {
     "ename": "AttributeError",
     "evalue": "'MinMaxScaler' object has no attribute 'data_min_'",
     "output_type": "error",
     "traceback": [
      "\u001b[1;31m---------------------------------------------------------------------------\u001b[0m",
      "\u001b[1;31mAttributeError\u001b[0m                            Traceback (most recent call last)",
      "\u001b[1;32m<ipython-input-35-5fccb17754e9>\u001b[0m in \u001b[0;36m<module>\u001b[1;34m\u001b[0m\n\u001b[0;32m      5\u001b[0m \u001b[0mprint\u001b[0m\u001b[1;33m(\u001b[0m\u001b[0mtr_x_data1\u001b[0m\u001b[1;33m)\u001b[0m\u001b[1;33m\u001b[0m\u001b[1;33m\u001b[0m\u001b[0m\n\u001b[0;32m      6\u001b[0m \u001b[1;33m\u001b[0m\u001b[0m\n\u001b[1;32m----> 7\u001b[1;33m \u001b[0mscaler\u001b[0m\u001b[1;33m.\u001b[0m\u001b[0mdata_min_\u001b[0m\u001b[1;33m\u001b[0m\u001b[1;33m\u001b[0m\u001b[0m\n\u001b[0m\u001b[0;32m      8\u001b[0m \u001b[1;33m\u001b[0m\u001b[0m\n\u001b[0;32m      9\u001b[0m \u001b[1;31m# scaler 가 train_data_set에 대ㅎ한 최대 최소값을 가지고 있?\u001b[0m\u001b[1;33m\u001b[0m\u001b[1;33m\u001b[0m\u001b[1;33m\u001b[0m\u001b[0m\n",
      "\u001b[1;31mAttributeError\u001b[0m: 'MinMaxScaler' object has no attribute 'data_min_'"
     ]
    }
   ],
   "source": [
    "# 스케일링 전처리 분야 -> normalization -> 8:2 \n",
    "\n",
    "scaler = MinMaxScaler()\n",
    "# tr_x_data1 = scaler.fit_transform(tr_x_data) # fit()함수는 min max data 갖과와\n",
    "print(tr_x_data1)   \n",
    "\n",
    "s#caler.data_min_\n",
    "\n",
    "# scaler 가 train_data_set에 대ㅎ한 최대 최소값을 가지고 있? "
   ]
  },
  {
   "cell_type": "code",
   "execution_count": 51,
   "metadata": {},
   "outputs": [
    {
     "name": "stdout",
     "output_type": "stream",
     "text": [
      "[[0.85       0.8       ]\n",
      " [0.5125     0.73333333]\n",
      " [0.725      0.37777778]\n",
      " ...\n",
      " [0.375      0.28888889]\n",
      " [0.8625     0.75555556]\n",
      " [0.275      0.13333333]]\n"
     ]
    },
    {
     "data": {
      "text/plain": [
       "(4000, 2)"
      ]
     },
     "execution_count": 51,
     "metadata": {},
     "output_type": "execute_result"
    }
   ],
   "source": [
    " # 정규화 직업을 진행\n",
    "x_data = scaler.fit_transform(data_df[[\"height\", \"weight\"]]) # normalization\n",
    "print(x_data)\n",
    "\n",
    "# 학습용 테스트용 x data를 생성\n",
    "train_x_data = x_data[:split_num]\n",
    "test_x_data = x_data[split_num:]\n",
    "\n",
    "test_x_data.shape\n",
    "\n",
    "# 학습용 \n"
   ]
  },
  {
   "cell_type": "code",
   "execution_count": 57,
   "metadata": {},
   "outputs": [],
   "source": [
    "# 학습용 테스트용 y data를 생성 -> one hot encoding\n",
    "# one hot encoding 으로 전환시킬 때 pandas.get_dummies(), tensorflow.one_hot()\n",
    "\n",
    "data_df.loc[:split_num, \"label\"]\n",
    "\n",
    "sess = tf.Session()\n",
    "#print(train_x_data.shape)\n",
    "\n",
    "#train_y_data = sess.run(tf.one_hot(data_df.loc[:split_num-1, \"label\"], 3)).shape # split으로 끊어내는데 차이가 잇을수 잇어요?\n",
    "test_y_data = sess.run(tf.one_hot(data_df.loc[split_num:, \"label\"], 3)) # 스플릿 넘버 - 1 \n",
    "\n",
    "train_y_data = sess.run(tf.one_hot(data_df.loc[:split_num-1, \"label\"], 3))\n",
    "\n",
    "\n",
    "#print(train_y_data.shape)\n",
    "\n",
    "\n"
   ]
  },
  {
   "cell_type": "code",
   "execution_count": 59,
   "metadata": {},
   "outputs": [
    {
     "name": "stdout",
     "output_type": "stream",
     "text": [
      "(4000, 3)\n",
      "(16000, 3)\n"
     ]
    }
   ],
   "source": [
    "size_test_y = sess.run(tf.one_hot(data_df.loc[split_num:, \"label\"], 3)).shape\n",
    "size_train_y = sess.run(tf.one_hot(data_df.loc[:split_num-1, \"label\"], 3)).shape\n",
    "print(size_test_y)\n",
    "print(size_train_y)"
   ]
  },
  {
   "cell_type": "code",
   "execution_count": 41,
   "metadata": {},
   "outputs": [
    {
     "name": "stdout",
     "output_type": "stream",
     "text": [
      "[[0.85       0.8       ]\n",
      " [0.5125     0.73333333]\n",
      " [0.725      0.37777778]\n",
      " ...\n",
      " [0.5125     0.84444444]\n",
      " [0.8125     0.13333333]\n",
      " [0.6375     0.82222222]]\n",
      "[[0. 1. 0.]\n",
      " [0. 0. 1.]\n",
      " [1. 0. 0.]\n",
      " ...\n",
      " [0. 0. 1.]\n",
      " [1. 0. 0.]\n",
      " [0. 1. 0.]]\n"
     ]
    }
   ],
   "source": [
    "print(train_x_data)\n",
    "print(train_y_data)"
   ]
  },
  {
   "cell_type": "code",
   "execution_count": 61,
   "metadata": {
    "scrolled": true
   },
   "outputs": [
    {
     "name": "stdout",
     "output_type": "stream",
     "text": [
      "cost 값은 : 1.2388445138931274\n",
      "cost 값은 : 0.35936835408210754\n",
      "cost 값은 : 0.283021479845047\n",
      "cost 값은 : 0.24500471353530884\n",
      "cost 값은 : 0.22091315686702728\n",
      "cost 값은 : 0.20380567014217377\n",
      "cost 값은 : 0.19081011414527893\n",
      "cost 값은 : 0.18048498034477234\n",
      "cost 값은 : 0.17201414704322815\n",
      "cost 값은 : 0.1648940145969391\n"
     ]
    }
   ],
   "source": [
    "X = tf.placeholder(shape=[None,2], dtype=tf.float32)\n",
    "Y = tf.placeholder(shape=[None,3], dtype=tf.float32)\n",
    "\n",
    "# Weight & bias\n",
    "W = tf.Variable(tf.random_normal([2,3]), name='weight') # 매트릭스로 표현\n",
    "b = tf.Variable(tf.random_normal([3]), name='bias')\n",
    "\n",
    "# Hypothesis\n",
    "logit = tf.matmul(X,W) + b\n",
    "H = tf.nn.softmax(logit)\n",
    "\n",
    "# cost function\n",
    "# cost = tf.reduce_mean(tf.nn.sigmoid_cross_entropy_with_logits(logits= logit, labels=Y) )\n",
    "# sigmoid 를 안 쓰고 소프트맥스를 써요\n",
    "cost = tf.reduce_mean(tf.nn.softmax_cross_entropy_with_logits_v2(logits=logit, labels=Y) )\n",
    "\n",
    "# train\n",
    "#optimizer = tf.train.GradientDescentOptimizer(learning_rate=0.1).minimize(cost)\n",
    "optimizer = tf.train.GradientDescentOptimizer(learning_rate=0.1)\n",
    "train = optimizer.minimize(cost)\n",
    "\n",
    "sess = tf.Session()\n",
    "sess.run(tf.global_variables_initializer())\n",
    "\n",
    "for step in range(30000):\n",
    "    _, cost_val = sess.run([train, cost],\n",
    "                          feed_dict = {X : train_x_data,\n",
    "                                      Y: train_y_data})\n",
    "    if step % 3000 == 0:\n",
    "        print(\"cost 값은 : {}\".format(cost_val))"
   ]
  },
  {
   "cell_type": "code",
   "execution_count": 62,
   "metadata": {},
   "outputs": [
    {
     "name": "stdout",
     "output_type": "stream",
     "text": [
      "Accuracy: 0.9797499775886536\n"
     ]
    }
   ],
   "source": [
    "predict = tf.argmax(H, axis=1) # 가장 큰 값 인덱스 번호를 리턴\n",
    "correct = tf.equal(predict, tf.argmax(Y,axis=1))\n",
    "accuracy = tf.reduce_mean(tf.cast(correct, dtype=tf.float32) )\n",
    "print(\"Accuracy: {}\".format(sess.run(accuracy, feed_dict={X:test_x_data, Y:test_y_data})))"
   ]
  },
  {
   "cell_type": "code",
   "execution_count": 63,
   "metadata": {},
   "outputs": [
    {
     "name": "stdout",
     "output_type": "stream",
     "text": [
      "NORMAL\n"
     ]
    }
   ],
   "source": [
    "# prediction\n",
    "prediction_data = scaler.transform([[187,78]])\n",
    "result = sess.run(tf.argmax(H,1), feed_dict={X: prediction_data})[0]\n",
    "\n",
    "if result == 0:\n",
    "    print(\"FAT\")\n",
    "elif result == 1:\n",
    "    print(\"NORMAL\")\n",
    "else:\n",
    "    print(\"THIN\")"
   ]
  }
 ],
 "metadata": {
  "kernelspec": {
   "display_name": "CPU2_ENV",
   "language": "python",
   "name": "cpu2_env"
  },
  "language_info": {
   "codemirror_mode": {
    "name": "ipython",
    "version": 3
   },
   "file_extension": ".py",
   "mimetype": "text/x-python",
   "name": "python",
   "nbconvert_exporter": "python",
   "pygments_lexer": "ipython3",
   "version": "3.6.9"
  }
 },
 "nbformat": 4,
 "nbformat_minor": 2
}
