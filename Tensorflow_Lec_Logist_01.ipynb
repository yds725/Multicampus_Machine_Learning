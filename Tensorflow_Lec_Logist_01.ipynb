{
 "cells": [
  {
   "cell_type": "code",
   "execution_count": 5,
   "metadata": {},
   "outputs": [
    {
     "data": {
      "text/plain": [
       "<matplotlib.collections.PathCollection at 0x1fa9a78dcf8>"
      ]
     },
     "execution_count": 5,
     "metadata": {},
     "output_type": "execute_result"
    },
    {
     "data": {
      "image/png": "[encoded data removed]",
      "text/plain": [
       "<Figure size 432x288 with 1 Axes>"
      ]
     },
     "metadata": {
      "needs_background": "light"
     },
     "output_type": "display_data"
    }
   ],
   "source": [
    "# 지도학습에서 데이터의 라벨이 0 혹은 1로 설정\n",
    "# 이런 데이터는 기존의 선형회귀방식으로는 학습하고 prediction 불가?\n",
    "# 이런 데이터는 어떻게 학습하고 예측하면 좋을까?\n",
    "\n",
    "# 가설을 바꿔야해요!\n",
    "# H = XW + b (다중선형회귀에서 가설) => 직선\n",
    "# 직선이 아닌 0 ~ 1 사이의 값을 가지는 함수로 가설 표현\n",
    "# sigmoid 함수 이용해서 표현\n",
    "\n",
    "# logistic => H' = 1 / (1+e^-(WX+b))\n",
    "# 이걸 코스트 함수 그래프로 나타내면 \n",
    "# W자 모양이 나오는데 코스트 함수 그래프 는 매끄러운 곡선을 나타내야한다 \n",
    "# 따라서? 코스트 함수를 변경\n",
    "\n",
    "# 코스트 = -ylog(H) - (1-y)log(1-H)\n",
    "\n",
    "\n",
    "\n",
    "\n",
    "import numpy as np\n",
    "import matplotlib.pyplot as plt\n",
    "\n",
    "x = np.arange(-10, 10, 0.1)\n",
    "y = 1 / (1 + np.exp(-x))\n",
    "\n",
    "\n",
    "\n",
    "plt.scatter(x,y)\n",
    "\n"
   ]
  },
  {
   "cell_type": "code",
   "execution_count": 19,
   "metadata": {},
   "outputs": [
    {
     "name": "stdout",
     "output_type": "stream",
     "text": [
      "cost val: 1.271128535270691\n",
      "cost val: 0.5078676342964172\n",
      "cost val: 0.41074737906455994\n",
      "cost val: 0.382272869348526\n",
      "cost val: 0.36111339926719666\n",
      "cost val: 0.34330061078071594\n",
      "cost val: 0.32798001170158386\n",
      "cost val: 0.31465521454811096\n",
      "cost val: 0.3029566705226898\n",
      "cost val: 0.29259762167930603\n",
      "[[0.8009299]]\n"
     ]
    }
   ],
   "source": [
    "# 수학식을 이용해 코스트 함수를 사용할 데이터는 \n",
    "# 공부시간            어학연수         시험성적\n",
    "#   1                    1               0(Fail)\n",
    "#   2                   0                0\n",
    "#   5                   1                0\n",
    "#   2                   3               1(Pass)\n",
    "#   3                   3                1\n",
    "#   8                   1                1\n",
    "#  10                   0                1\n",
    "\n",
    "import tensorflow as tf\n",
    "\n",
    "# training data set\n",
    "x_data = [[1,1],\n",
    "          [2,0],\n",
    "          [5,1],\n",
    "          [2,3],\n",
    "          [3,3],\n",
    "          [8,1],\n",
    "          [10,0]]\n",
    "\n",
    "y_data = [[0],[0],[0],[1],[1],[1],[1]]\n",
    "\n",
    "# placeholder\n",
    "X = tf.placeholder(shape=[None,2], dtype=tf.float32)\n",
    "Y = tf.placeholder(shape=[None,1], dtype=tf.float32)\n",
    "\n",
    "# Weight & bias\n",
    "W = tf.Variable(tf.random_normal([2,1]), name='weight')\n",
    "b = tf.Variable(tf.random_normal([1]), name='bias')\n",
    "\n",
    "# Hypothesis\n",
    "# 함수 만들 떄 이렇게 만들어서 저기 logits 속성에는 logit를 넣어어야함 (H를 넣는 게 아님)\n",
    "logit = tf.matmul(X,W) + b\n",
    "# sigmoid 이용해서 곡선 이용\n",
    "H = tf.sigmoid(logit) \n",
    "\n",
    "# cost func (tf에서 제공하는 함수를 이용)\n",
    "# 매끄러운 곡선을 만들기 위해\n",
    "cost = tf.reduce_mean(tf.nn.sigmoid_cross_entropy_with_logits(logits= logit, labels= Y))\n",
    "\n",
    "# train node\n",
    "optimizer = tf.train.GradientDescentOptimizer(learning_rate=0.01)\n",
    "train = optimizer.minimize(cost)\n",
    "\n",
    "## session 초기화 (initialization)\n",
    "sess = tf.Session()\n",
    "sess.run(tf.global_variables_initializer())\n",
    "\n",
    "# 학습\n",
    "for step in range(3000):\n",
    "    _, cost_val = sess.run([train,cost], feed_dict={ X : x_data,\n",
    "                                                     Y : y_data})\n",
    "    if step % 300 == 0:\n",
    "        print(\"cost val: {}\".format(cost_val))\n",
    "\n",
    "#predict\n",
    "result = sess.run(H, feed_dict={X : [[7,1]]})\n",
    "print(result)\n"
   ]
  },
  {
   "cell_type": "code",
   "execution_count": null,
   "metadata": {},
   "outputs": [],
   "source": []
  }
 ],
 "metadata": {
  "kernelspec": {
   "display_name": "CPU2_ENV",
   "language": "python",
   "name": "cpu2_env"
  },
  "language_info": {
   "codemirror_mode": {
    "name": "ipython",
    "version": 3
   },
   "file_extension": ".py",
   "mimetype": "text/x-python",
   "name": "python",
   "nbconvert_exporter": "python",
   "pygments_lexer": "ipython3",
   "version": "3.6.9"
  }
 },
 "nbformat": 4,
 "nbformat_minor": 2
}
