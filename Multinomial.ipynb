{
 "cells": [
  {
   "cell_type": "code",
   "execution_count": 5,
   "metadata": {},
   "outputs": [
    {
     "data": {
      "text/plain": [
       "<matplotlib.collections.PathCollection at 0x1de8c210f28>"
      ]
     },
     "execution_count": 5,
     "metadata": {},
     "output_type": "execute_result"
    },
    {
     "data": {
      "image/png": "[encoded data removed]",
      "text/plain": [
       "<Figure size 432x288 with 1 Axes>"
      ]
     },
     "metadata": {
      "needs_background": "light"
     },
     "output_type": "display_data"
    }
   ],
   "source": [
    "# Multinomial\n",
    "\n",
    "import pandas as pd\n",
    "import numpy as np\n",
    "import matplotlib.pyplot as plt\n",
    "import tensorflow as tf\n",
    "import warnings\n",
    "from sklearn.linear_model import LogisticRegression\n",
    "import mglearn\n",
    "\n",
    "warnings.filterwarnings(action=\"ignore\") # warning 출력 제외\n",
    "\n",
    "x, y = mglearn.datasets.make_forge()\n",
    "# 먼저 간단하게 scatter(산점도)를 그려봄!\n",
    "# y값이 0인 x를 추출 x 첫번째 컬럼 x축\n",
    "# x 두번째 컬럼을 y축으로 scatter를 그려봄\n",
    "blue = x[y == 0]\n",
    "plt.scatter(blue[:,0], blue[:,1])\n",
    "\n",
    "orange = x[y == 1]\n",
    "plt.scatter(orange[:,0], orange[:,1])\n",
    "\n",
    "\n",
    "\n"
   ]
  },
  {
   "cell_type": "code",
   "execution_count": 8,
   "metadata": {},
   "outputs": [
    {
     "name": "stdout",
     "output_type": "stream",
     "text": [
      "Cost value: 4.1864237785339355\n",
      "Cost value: 0.25742974877357483\n",
      "Cost value: 0.23799970746040344\n",
      "Cost value: 0.23228392004966736\n",
      "Cost value: 0.22996939718723297\n",
      "Cost value: 0.22879305481910706\n",
      "Cost value: 0.2280578464269638\n",
      "Cost value: 0.22750908136367798\n",
      "Cost value: 0.22704379260540009\n",
      "Cost value: 0.2266177386045456\n"
     ]
    }
   ],
   "source": [
    "# machine learning (Logistic Regression)\n",
    "# train data set ( test data set 넘아감!)\n",
    "train_x_data = x\n",
    "train_y_data = y.reshape([-1,1])\n",
    "\n",
    "# placeholder \n",
    "X = tf.placeholder(shape=[None,2], dtype=tf.float32)\n",
    "Y = tf.placeholder(shape=[None,1], dtype=tf.float32)\n",
    "\n",
    "# weight, bias\n",
    "W = tf.Variable(tf.random_normal([2,1]), name='weight')\n",
    "b = tf.Variable(tf.random_normal([1]), name='bias')\n",
    "\n",
    "# Hypothesis\n",
    "logit = tf.matmul(X,W) + b\n",
    "H = tf.sigmoid(logit)\n",
    "\n",
    "# Cost(Loss) Function \n",
    "cost = tf.reduce_mean(tf.nn.sigmoid_cross_entropy_with_logits(logits= logit, labels=Y) )\n",
    "\n",
    "# train node\n",
    "optimizer = tf.train.GradientDescentOptimizer(learning_rate=0.01)\n",
    "train = optimizer.minimize(cost)\n",
    "\n",
    "# session, 초기화\n",
    "sess = tf.Session()\n",
    "sess.run(tf.global_variables_initializer())\n",
    "\n",
    "# 학습진행\n",
    "for step in range(3000):\n",
    "    _, cost_val = sess.run([train, cost], feed_dict ={X: train_x_data, \n",
    "                                                      Y: train_y_data} )\n",
    "    \n",
    "    if step % 300 == 0:\n",
    "        print(\"Cost value: {}\".format(cost_val))\n",
    "\n",
    "\n"
   ]
  },
  {
   "cell_type": "code",
   "execution_count": 14,
   "metadata": {},
   "outputs": [
    {
     "name": "stdout",
     "output_type": "stream",
     "text": [
      "[1]\n"
     ]
    },
    {
     "data": {
      "text/plain": [
       "<matplotlib.collections.PathCollection at 0x1de918c8128>"
      ]
     },
     "execution_count": 14,
     "metadata": {},
     "output_type": "execute_result"
    },
    {
     "data": {
      "image/png": "[encoded data removed]",
      "text/plain": [
       "<Figure size 432x288 with 1 Axes>"
      ]
     },
     "metadata": {},
     "output_type": "display_data"
    }
   ],
   "source": [
    "# 정확도 측정 (Accuracy) : 95 % 이상 나오면 쓸만한 모델\n",
    "# Prediction (예측)\n",
    "\n",
    "result = sess.run(H, feed_dict={ X : [[9,4]]})\n",
    "result\n",
    "\n",
    "model = LogisticRegression()\n",
    "myModel = model.fit(x,y) # logistic model learning\n",
    "print(myModel.predict([[9,4]])) # 1\n",
    "\n",
    "blue = x[y == 0]\n",
    "plt.scatter(blue[:,0], blue[:,1])\n",
    "\n",
    "orange = x[y == 1]\n",
    "plt.scatter(orange[:,0], orange[:,1])\n",
    "\n",
    "mglearn.plots.plot_2d_separator(myModel, x, fill=False, eps=0.5, alpha=0.7)\n",
    "\n",
    "\n",
    "plt.scatter(9,4)"
   ]
  },
  {
   "cell_type": "markdown",
   "metadata": {},
   "source": [
    "## 로지스틱 회귀\n",
    "### 오버피팅을 어떻게 피할거냐?\n",
    "### 과적합을 피해라? \n"
   ]
  },
  {
   "cell_type": "code",
   "execution_count": 16,
   "metadata": {},
   "outputs": [
    {
     "data": {
      "text/plain": [
       "<matplotlib.collections.PathCollection at 0x1de91b5fa90>"
      ]
     },
     "execution_count": 16,
     "metadata": {},
     "output_type": "execute_result"
    },
    {
     "data": {
      "image/png": "[encoded data removed]",
      "text/plain": [
       "<Figure size 432x288 with 1 Axes>"
      ]
     },
     "metadata": {
      "needs_background": "light"
     },
     "output_type": "display_data"
    }
   ],
   "source": [
    "# 0.5 모델선 기준점을 0.5로 씀? \n",
    "# LOGISTIC 을 멀티노미얼로 확장\n",
    "# X쪽 데이터는 시험성적과 출석점수\n",
    "# Y쪽 데이터는 학점 \n",
    "x = np.array([[10,5],\n",
    "              [9,5],\n",
    "              [5,1],\n",
    "              [4,2],\n",
    "              [1,3]])\n",
    "y = np.array([[\"A\"],\n",
    "              [\"A\"],\n",
    "              [\"B\"],\n",
    "              [\"B\"],\n",
    "              [\"C\"]])\n",
    "\n",
    "plt.scatter(x[0:2,0], x[0:2,1]) # A 학점 점 을 찍어봄\n",
    "plt.scatter(x[2:4,0], x[2:4,1]) # B 학점 점 을 찍어봄\n",
    "plt.scatter(x[4,0], x[4,1]) # C 학점 점을 찍어봄"
   ]
  },
  {
   "cell_type": "markdown",
   "metadata": {},
   "source": [
    "## 이선이 세개가 잇어야 되고 경계를 나눠줌\n",
    "### 멀티노미얼을 이용해 A B C 영역을 잡아줌\n",
    "#### 성적, 출석 => \"A\", \"B\", \"C\" \n",
    "#### 로지스틱 H = tf.sigmoid( tf.matmul(X,W) +b )\n",
    "#### (x1, x2) * (w1 | w2) + b\n",
    "#### (x1, x2) * (Wa1, Wb1, Wc1 | Wa2, Wb2, Wc2) + (b1, b2, b3)\n",
    "#### 행렬값을 곱해 더해서 세개의 행렬값으로 만듬 \n",
    "#### probability --> (0.3, 0.2, 0.5) 확률을 구할 떄 sigmoid 대신 softmax "
   ]
  }
 ],
 "metadata": {
  "kernelspec": {
   "display_name": "CPU2_ENV",
   "language": "python",
   "name": "cpu2_env"
  },
  "language_info": {
   "codemirror_mode": {
    "name": "ipython",
    "version": 3
   },
   "file_extension": ".py",
   "mimetype": "text/x-python",
   "name": "python",
   "nbconvert_exporter": "python",
   "pygments_lexer": "ipython3",
   "version": "3.6.9"
  }
 },
 "nbformat": 4,
 "nbformat_minor": 2
}
