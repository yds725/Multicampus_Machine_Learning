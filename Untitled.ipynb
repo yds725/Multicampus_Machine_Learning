{
 "cells": [
  {
   "cell_type": "code",
   "execution_count": 7,
   "metadata": {},
   "outputs": [
    {
     "name": "stdout",
     "output_type": "stream",
     "text": [
      "    manufacturer   model  displ  year  cyl       trans drv  cty  hwy fl  \\\n",
      "0           audi      a4    1.8  1999    4    auto(l5)   f   18   29  p   \n",
      "1           audi      a4    1.8  1999    4  manual(m5)   f   21   29  p   \n",
      "2           audi      a4    2.0  2008    4  manual(m6)   f   20   31  p   \n",
      "3           audi      a4    2.0  2008    4    auto(av)   f   21   30  p   \n",
      "4           audi      a4    2.8  1999    6    auto(l5)   f   16   26  p   \n",
      "..           ...     ...    ...   ...  ...         ...  ..  ...  ... ..   \n",
      "229   volkswagen  passat    2.0  2008    4    auto(s6)   f   19   28  p   \n",
      "230   volkswagen  passat    2.0  2008    4  manual(m6)   f   21   29  p   \n",
      "231   volkswagen  passat    2.8  1999    6    auto(l5)   f   16   26  p   \n",
      "232   volkswagen  passat    2.8  1999    6  manual(m5)   f   18   26  p   \n",
      "233   volkswagen  passat    3.6  2008    6    auto(s6)   f   17   26  p   \n",
      "\n",
      "       class  \n",
      "0    compact  \n",
      "1    compact  \n",
      "2    compact  \n",
      "3    compact  \n",
      "4    compact  \n",
      "..       ...  \n",
      "229  midsize  \n",
      "230  midsize  \n",
      "231  midsize  \n",
      "232  midsize  \n",
      "233  midsize  \n",
      "\n",
      "[234 rows x 11 columns]\n"
     ]
    }
   ],
   "source": [
    "import pandas as pd\n",
    "from pprint import pprint\n",
    "\n",
    "df = pd.read_csv(\"./data/mpg_python.csv\")\n",
    "\n",
    "pprint(df)\n",
    "\n",
    "# 1. displ(배기량)이 4 이하인 자동차와 5 이상인 자동차 중 어떤 자동차의 hwy(고속도로 연비)가 평균적으로 더 높은지 확인하세요.\n",
    "\n",
    "four_lower = df[df['displ'] <= 4]\n",
    "four_lower\n",
    "\n",
    "five_upper = df[df['displ'] >= 5]\n"
   ]
  },
  {
   "cell_type": "code",
   "execution_count": null,
   "metadata": {},
   "outputs": [],
   "source": []
  }
 ],
 "metadata": {
  "kernelspec": {
   "display_name": "[CPU_ENV]",
   "language": "python",
   "name": "cpu_env"
  },
  "language_info": {
   "codemirror_mode": {
    "name": "ipython",
    "version": 3
   },
   "file_extension": ".py",
   "mimetype": "text/x-python",
   "name": "python",
   "nbconvert_exporter": "python",
   "pygments_lexer": "ipython3",
   "version": "3.6.9"
  }
 },
 "nbformat": 4,
 "nbformat_minor": 2
}
