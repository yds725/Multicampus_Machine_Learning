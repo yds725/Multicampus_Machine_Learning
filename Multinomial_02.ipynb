{
 "cells": [
  {
   "cell_type": "code",
   "execution_count": 5,
   "metadata": {},
   "outputs": [],
   "source": [
    "import tensorflow as tf\n",
    "import pandas as pd\n"
   ]
  },
  {
   "cell_type": "code",
   "execution_count": 4,
   "metadata": {},
   "outputs": [
    {
     "name": "stdout",
     "output_type": "stream",
     "text": [
      "cost 값은 : 6.591826438903809\n",
      "cost 값은 : 0.03975290060043335\n",
      "cost 값은 : 0.0255077313631773\n",
      "cost 값은 : 0.018949270248413086\n",
      "cost 값은 : 0.015073754824697971\n",
      "cost 값은 : 0.012509590946137905\n",
      "cost 값은 : 0.01068769209086895\n",
      "cost 값은 : 0.009327009320259094\n",
      "cost 값은 : 0.008272302336990833\n",
      "cost 값은 : 0.007431075908243656\n",
      "Accuracy: 1.0\n"
     ]
    }
   ],
   "source": [
    "# train data set\n",
    "train_x_data = [[10,7,8,5],\n",
    "                [8,8,9,4],\n",
    "                [7,8,2,3],\n",
    "                [6,3,9,3],\n",
    "                [7,5,7,4],\n",
    "                [3,5,6,2],\n",
    "                [2,4,3,1]]\n",
    "\n",
    "# one hot encoding\n",
    "train_y_data = [[1,0,0],\n",
    "                [1,0,0],\n",
    "                [0,1,0],\n",
    "                [0,1,0],\n",
    "                [0,1,0],\n",
    "                [0,0,1],\n",
    "                [0,0,1]]\n",
    "\n",
    "# placeholder \n",
    "X = tf.placeholder(shape=[None,4], dtype=tf.float32)\n",
    "Y = tf.placeholder(shape=[None,3], dtype=tf.float32)\n",
    "\n",
    "# Weight bias\n",
    "W = tf.Variable(tf.random_normal([4,3]), name='weight') # 매트릭스로 표현\n",
    "b = tf.Variable(tf.random_normal([3]), name='bias')\n",
    "\n",
    "# Hypothesis\n",
    "logit = tf.matmul(X,W) + b\n",
    "H = tf.nn.softmax(logit) # 이놈이 변경이 되요!\n",
    "\n",
    "# cost function\n",
    "# cost = tf.reduce_mean(tf.nn.sigmoid_cross_entropy_with_logits(logits= logit, labels=Y) )\n",
    "# sigmoid 를 안 쓰고 소프트맥스를 써요\n",
    "cost = tf.reduce_mean(tf.nn.softmax_cross_entropy_with_logits_v2(logits=logit, labels=Y) )\n",
    "\n",
    "# train\n",
    "train = tf.train.GradientDescentOptimizer(learning_rate=0.1).minimize(cost)\n",
    "\n",
    "# session initialization\n",
    "sess = tf.Session()\n",
    "sess.run(tf.global_variables_initializer())\n",
    "\n",
    "# 학습\n",
    "for step in range(30000):\n",
    "    _, cost_val = sess.run([train, cost],\n",
    "                          feed_dict = {X : train_x_data,\n",
    "                                      Y: train_y_data})\n",
    "    if step % 3000 == 0:\n",
    "        print(\"cost 값은 : {}\".format(cost_val))\n",
    "\n",
    "# multino       \n",
    "# 정확도\n",
    "predict = tf.argmax(H, axis=1) # 가장 큰 값 인덱스 번호를 리턴\n",
    "correct = tf.equal(predict, tf.argmax(Y,axis=1))\n",
    "accuracy = tf.reduce_mean(tf.cast(correct, dtype=tf.float32) )\n",
    "\n",
    "print(\"Accuracy: {}\".format(sess.run(accuracy, feed_dict={X:train_x_data, Y:train_y_data})))\n",
    "\n",
    "# 요것은 로지스틱 회귀\n",
    "#predict = tf.cast(H > 0.5, dtype=tf.float32)\n",
    "\n",
    "#sess.run(H, feed_dict={X:[[10, 8, 9, 5]]})"
   ]
  },
  {
   "cell_type": "markdown",
   "metadata": {},
   "source": [
    "## Multinomial 은 특정 위치를 보고 평가를 한다 (예를 들어 가장 큰값 기준으로)\n",
    "\n",
    "### 그러나 로지스틱 회귀는 H > 0.5 기준으로 T or F인지 평가한다"
   ]
  },
  {
   "cell_type": "code",
   "execution_count": 6,
   "metadata": {},
   "outputs": [
    {
     "name": "stdout",
     "output_type": "stream",
     "text": [
      "       label  height  weight\n",
      "0          1     188      71\n",
      "1          2     161      68\n",
      "2          0     178      52\n",
      "3          2     136      63\n",
      "4          1     145      52\n",
      "...      ...     ...     ...\n",
      "19995      0     163      48\n",
      "19996      2     139      70\n",
      "19997      1     150      48\n",
      "19998      1     189      69\n",
      "19999      1     142      41\n",
      "\n",
      "[20000 rows x 3 columns]\n"
     ]
    }
   ],
   "source": [
    "# BMI data를 학습한 후 자신의 키와 몸무게를 넣어서 \n",
    "# 자신의 상태를 확인해봄\n",
    "# bmi.csv를 가져가서 multinomial문제를 학습해봄\n",
    "# label 0: thin\n",
    "# label 1: normal\n",
    "# label 2: fat\n",
    "\n",
    "bmi_df = pd.read_csv(\"./bmi.csv\", skiprows=3)\n",
    "print(bmi_df)\n",
    "\n"
   ]
  }
 ],
 "metadata": {
  "kernelspec": {
   "display_name": "CPU2_ENV",
   "language": "python",
   "name": "cpu2_env"
  },
  "language_info": {
   "codemirror_mode": {
    "name": "ipython",
    "version": 3
   },
   "file_extension": ".py",
   "mimetype": "text/x-python",
   "name": "python",
   "nbconvert_exporter": "python",
   "pygments_lexer": "ipython3",
   "version": "3.6.9"
  }
 },
 "nbformat": 4,
 "nbformat_minor": 2
}
