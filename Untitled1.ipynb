{
 "cells": [
  {
   "cell_type": "code",
   "execution_count": null,
   "metadata": {},
   "outputs": [],
   "source": [
    "import pandas as pd \n",
    "import numpy as np\n",
    "import matplotlib.pyplot as plt\n",
    "import tensorflow as tf\n",
    "import threading\n",
    "from keras.models import Sequential\n",
    "from keras.layers import LSTM, Dropout, Dense, Activation\n",
    "\n",
    "\n",
    "# from keras.callbacks import TensorBoard, ModelCheckpoint, ReduceLROnPlateau\n",
    "\n",
    "import datetime\n",
    "\n",
    "\n",
    "# Load Dataset\n",
    "data = pd.read_csv(\"C:/Python_DA/AMZN.csv\")\n",
    "data.head()\n",
    "\n",
    "\n",
    "# Compute Mid Price\n",
    "high_prices = data[\"High\"].values\n",
    "low_prices = data[\"Low\"].values\n",
    "mid_prices = (high_prices + low_prices) / 2\n",
    "\n",
    "\n",
    "# Creat Windows\n",
    "seq_len = 50    # 최근 50일을 통해 내일을 예측\n",
    "sequence_length = seq_len + 1   # 50일이 기준이되고 1일 뒤를 예측해야 하기 때문에 50 + 1\n",
    "\n",
    "result = []\n",
    "for index in range(len(mid_prices) - sequence_length):\n",
    "    result.append(mid_prices[index: index + sequence_length])\n",
    "\n",
    "\n",
    "# Normalize Data\n",
    "normalized_data = []\n",
    "for window in result:\n",
    "    normalized_window = [((float(p) / float(window[0])) - 1) for p in window]\n",
    "    normalized_data.append(normalized_window)\n",
    "\n",
    "result = np.array(normalized_data)\n",
    "\n",
    "\n",
    "# split train and test data\n",
    "row = int(round(result.shape[0] * 0.9))     # 90%의 데이터로 트레이닝 후 10%의 데이터로 테스트검증\n",
    "train = result[:row, :]     \n",
    "np.random.shuffle(train)       # 배열의 값을 랜덤으로 섞는다, 반복되는 데이터로 할 경우 익숙해짐\n",
    "\n",
    "x_train = train[:, : -1]\n",
    "x_train = np.reshape(x_train, (x_train.shape[0], x_train.shape[1], 1))\n",
    "y_train = train[:, -1]\n",
    "\n",
    "x_test = result[row:, : -1]\n",
    "x_test = np.reshape(x_test, (x_test.shape[0], x_test.shape[1], 1))\n",
    "y_test = train[:, -1]\n",
    "\n",
    "x_train.shape, x_test.shape\n",
    "\n",
    "\n",
    "# Build a Model\n",
    "model = Sequential()    # model.add() > 모델 레이어 추가\n",
    "model.add(LSTM(50, return_sequences = True, input_shape = (50, 1)))     # 유닛수 50\n",
    "model.add(LSTM(64, return_sequences = False))       # 유닛수 64\n",
    "model.add(Dense(1, activation = \"linear\"))      # 다음날 하루를 예측\n",
    "model.compile(loss = \"mse\", optimizer = \"rmsprop\")      # 손실함수 : mse(Mean Squared Error)\n",
    "model.summary()\n",
    "\n",
    "\n",
    "# Training\n",
    "model.fit(x_train, y_train,     # model.fit() : 모델학습\n",
    "validation_data = (x_test, y_test),\n",
    "batch_size = 10,        # 한번에 묶어서 학습시킬 개수\n",
    "epochs = 20)            # 반복할 학습 횟수\n",
    "                        # >> val_loss 가 작을수록 학습이 잘 된것\n",
    "\n",
    "\n",
    "# Prediction\n",
    "pred = model.predict(x_test)\n",
    "\n",
    "fig = plt.figure(facecolor = \"gray\")\n",
    "ax = fig.add_dubplot(111)\n",
    "ax.plot(y_test, label = \"True\")\n",
    "ax.plot(pred, label = \"Prediction\")\n",
    "ax.legend()\n",
    "ax.show()"
   ]
  },
  {
   "cell_type": "code",
   "execution_count": 1,
   "metadata": {},
   "outputs": [
    {
     "name": "stdout",
     "output_type": "stream",
     "text": [
      "2\n"
     ]
    }
   ],
   "source": [
    "a = [1,2,3]\n",
    "print(a.index(max(a)))"
   ]
  }
 ],
 "metadata": {
  "kernelspec": {
   "display_name": "[CPU_ENV]",
   "language": "python",
   "name": "cpu_env"
  },
  "language_info": {
   "codemirror_mode": {
    "name": "ipython",
    "version": 3
   },
   "file_extension": ".py",
   "mimetype": "text/x-python",
   "name": "python",
   "nbconvert_exporter": "python",
   "pygments_lexer": "ipython3",
   "version": "3.6.9"
  }
 },
 "nbformat": 4,
 "nbformat_minor": 2
}
