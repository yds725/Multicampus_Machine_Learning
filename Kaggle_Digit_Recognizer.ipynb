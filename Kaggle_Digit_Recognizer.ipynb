{
 "cells": [
  {
   "cell_type": "code",
   "execution_count": 2,
   "metadata": {},
   "outputs": [],
   "source": [
    "## 캐글 디짓 리코그나이져\n",
    "\n",
    "import tensorflow as tf\n",
    "import numpy as np\n",
    "import pandas as pd\n",
    "import matplotlib.pyplot as plt\n",
    "import warnings \n",
    "from sklearn.preprocessing import MinMaxScaler\n",
    "\n"
   ]
  },
  {
   "cell_type": "code",
   "execution_count": 52,
   "metadata": {},
   "outputs": [
    {
     "name": "stdout",
     "output_type": "stream",
     "text": [
      "Extracting ./data/mnist\\train-images-idx3-ubyte.gz\n",
      "Extracting ./data/mnist\\train-labels-idx1-ubyte.gz\n",
      "Extracting ./data/mnist\\t10k-images-idx3-ubyte.gz\n",
      "Extracting ./data/mnist\\t10k-labels-idx1-ubyte.gz\n"
     ]
    }
   ],
   "source": [
    "# MNIST 데이터 다운로드\n",
    "# 이미지 파일 데이타 셋이 폴더에 다운로드 받아진다\n",
    "from tensorflow.examples.tutorials.mnist import input_data\n",
    "# Data Loading\n",
    "mnist = input_data.read_data_sets(\"./data/mnist\", one_hot=True)\n"
   ]
  },
  {
   "cell_type": "code",
   "execution_count": 57,
   "metadata": {},
   "outputs": [
    {
     "name": "stdout",
     "output_type": "stream",
     "text": [
      "(28000, 784)\n"
     ]
    }
   ],
   "source": [
    "img_data_test_df = pd.read_csv(\"./digit_recog/test.csv\")\n",
    "#test_df = pd.read_csv(\"./data/titanic/test.csv\")\n",
    "\n",
    "#train\n",
    "print(img_data_test_df.shape)"
   ]
  },
  {
   "cell_type": "code",
   "execution_count": 5,
   "metadata": {},
   "outputs": [
    {
     "name": "stdout",
     "output_type": "stream",
     "text": [
      "       label  pixel0  pixel1  pixel2  pixel3  pixel4  pixel5  pixel6  pixel7  \\\n",
      "0          1       0       0       0       0       0       0       0       0   \n",
      "1          0       0       0       0       0       0       0       0       0   \n",
      "2          1       0       0       0       0       0       0       0       0   \n",
      "3          4       0       0       0       0       0       0       0       0   \n",
      "4          0       0       0       0       0       0       0       0       0   \n",
      "...      ...     ...     ...     ...     ...     ...     ...     ...     ...   \n",
      "41995      0       0       0       0       0       0       0       0       0   \n",
      "41996      1       0       0       0       0       0       0       0       0   \n",
      "41997      7       0       0       0       0       0       0       0       0   \n",
      "41998      6       0       0       0       0       0       0       0       0   \n",
      "41999      9       0       0       0       0       0       0       0       0   \n",
      "\n",
      "       pixel8  ...  pixel774  pixel775  pixel776  pixel777  pixel778  \\\n",
      "0           0  ...         0         0         0         0         0   \n",
      "1           0  ...         0         0         0         0         0   \n",
      "2           0  ...         0         0         0         0         0   \n",
      "3           0  ...         0         0         0         0         0   \n",
      "4           0  ...         0         0         0         0         0   \n",
      "...       ...  ...       ...       ...       ...       ...       ...   \n",
      "41995       0  ...         0         0         0         0         0   \n",
      "41996       0  ...         0         0         0         0         0   \n",
      "41997       0  ...         0         0         0         0         0   \n",
      "41998       0  ...         0         0         0         0         0   \n",
      "41999       0  ...         0         0         0         0         0   \n",
      "\n",
      "       pixel779  pixel780  pixel781  pixel782  pixel783  \n",
      "0             0         0         0         0         0  \n",
      "1             0         0         0         0         0  \n",
      "2             0         0         0         0         0  \n",
      "3             0         0         0         0         0  \n",
      "4             0         0         0         0         0  \n",
      "...         ...       ...       ...       ...       ...  \n",
      "41995         0         0         0         0         0  \n",
      "41996         0         0         0         0         0  \n",
      "41997         0         0         0         0         0  \n",
      "41998         0         0         0         0         0  \n",
      "41999         0         0         0         0         0  \n",
      "\n",
      "[42000 rows x 785 columns]\n"
     ]
    },
    {
     "data": {
      "text/plain": [
       "{'whiskers': [<matplotlib.lines.Line2D at 0x1c0d68aa4a8>,\n",
       "  <matplotlib.lines.Line2D at 0x1c0d68aa7f0>],\n",
       " 'caps': [<matplotlib.lines.Line2D at 0x1c0d68aab38>,\n",
       "  <matplotlib.lines.Line2D at 0x1c0d68aae80>],\n",
       " 'boxes': [<matplotlib.lines.Line2D at 0x1c0d68aa198>],\n",
       " 'medians': [<matplotlib.lines.Line2D at 0x1c0d6f7f208>],\n",
       " 'fliers': [<matplotlib.lines.Line2D at 0x1c0d6f7f550>],\n",
       " 'means': []}"
      ]
     },
     "execution_count": 5,
     "metadata": {},
     "output_type": "execute_result"
    },
    {
     "data": {
      "image/png": "[encoded data removed]",
      "text/plain": [
       "<Figure size 432x288 with 1 Axes>"
      ]
     },
     "metadata": {
      "needs_background": "light"
     },
     "output_type": "display_data"
    }
   ],
   "source": [
    "##\n",
    "img_data_df = pd.read_csv(\"./digit_recog/train.csv\")\n",
    "print(img_data_df)\n",
    "## 결측치 확인\n",
    "img_data_df.isnull().sum(axis=0) # 확인된결과\n",
    "\n",
    "# plt.boxplot(img_data_df[\"label\"])\n",
    "# 내 생각에은 이상치 확인 할 필요 없을듯\n",
    "\n"
   ]
  },
  {
   "cell_type": "code",
   "execution_count": 41,
   "metadata": {},
   "outputs": [
    {
     "name": "stdout",
     "output_type": "stream",
     "text": [
      "       pixel0  pixel1  pixel2  pixel3  pixel4  pixel5  pixel6  pixel7  pixel8  \\\n",
      "0           0       0       0       0       0       0       0       0       0   \n",
      "1           0       0       0       0       0       0       0       0       0   \n",
      "2           0       0       0       0       0       0       0       0       0   \n",
      "3           0       0       0       0       0       0       0       0       0   \n",
      "4           0       0       0       0       0       0       0       0       0   \n",
      "...       ...     ...     ...     ...     ...     ...     ...     ...     ...   \n",
      "41995       0       0       0       0       0       0       0       0       0   \n",
      "41996       0       0       0       0       0       0       0       0       0   \n",
      "41997       0       0       0       0       0       0       0       0       0   \n",
      "41998       0       0       0       0       0       0       0       0       0   \n",
      "41999       0       0       0       0       0       0       0       0       0   \n",
      "\n",
      "       pixel9  ...  pixel774  pixel775  pixel776  pixel777  pixel778  \\\n",
      "0           0  ...         0         0         0         0         0   \n",
      "1           0  ...         0         0         0         0         0   \n",
      "2           0  ...         0         0         0         0         0   \n",
      "3           0  ...         0         0         0         0         0   \n",
      "4           0  ...         0         0         0         0         0   \n",
      "...       ...  ...       ...       ...       ...       ...       ...   \n",
      "41995       0  ...         0         0         0         0         0   \n",
      "41996       0  ...         0         0         0         0         0   \n",
      "41997       0  ...         0         0         0         0         0   \n",
      "41998       0  ...         0         0         0         0         0   \n",
      "41999       0  ...         0         0         0         0         0   \n",
      "\n",
      "       pixel779  pixel780  pixel781  pixel782  pixel783  \n",
      "0             0         0         0         0         0  \n",
      "1             0         0         0         0         0  \n",
      "2             0         0         0         0         0  \n",
      "3             0         0         0         0         0  \n",
      "4             0         0         0         0         0  \n",
      "...         ...       ...       ...       ...       ...  \n",
      "41995         0         0         0         0         0  \n",
      "41996         0         0         0         0         0  \n",
      "41997         0         0         0         0         0  \n",
      "41998         0         0         0         0         0  \n",
      "41999         0         0         0         0         0  \n",
      "\n",
      "[42000 rows x 784 columns]\n",
      "       0  1  2  3  4  5  6  7  8  9\n",
      "0      0  1  0  0  0  0  0  0  0  0\n",
      "1      1  0  0  0  0  0  0  0  0  0\n",
      "2      0  1  0  0  0  0  0  0  0  0\n",
      "3      0  0  0  0  1  0  0  0  0  0\n",
      "4      1  0  0  0  0  0  0  0  0  0\n",
      "...   .. .. .. .. .. .. .. .. .. ..\n",
      "41995  1  0  0  0  0  0  0  0  0  0\n",
      "41996  0  1  0  0  0  0  0  0  0  0\n",
      "41997  0  0  0  0  0  0  0  1  0  0\n",
      "41998  0  0  0  0  0  0  1  0  0  0\n",
      "41999  0  0  0  0  0  0  0  0  0  1\n",
      "\n",
      "[42000 rows x 10 columns]\n",
      "[[0 1 0 ... 0 0 0]\n",
      " [1 0 0 ... 0 0 0]\n",
      " [0 1 0 ... 0 0 0]\n",
      " ...\n",
      " [0 0 0 ... 1 0 0]\n",
      " [0 0 0 ... 0 0 0]\n",
      " [0 0 0 ... 0 0 1]]\n"
     ]
    }
   ],
   "source": [
    "# 트레이닝, 테스트 데이타 셋\n",
    "# 을 잘라서 나눌 필요가 없다 왜냐면 테스트 파일이 잇으니깐\n",
    "\n",
    "train_x_data = img_data_df[img_data_df.columns[1:]]\n",
    "train_y_data = img_data_df[\"label\"]\n",
    "\n",
    "#print(train_x_data)\n",
    "#print(train_y_data)\n",
    "\n",
    "train_y_data = pd.get_dummies(train_y_data)\n",
    "train_y_data_1 = train_y_data\n",
    "#sess = tf.Session()\n",
    "# one hot encoding label  해준다 뎁스를 9로 잡아줌\n",
    "#train_y_data = sess.run(tf.one_hot(train_y_data, 10))\n",
    "print(train_x_data)\n",
    "print(train_y_data)\n",
    "print(train_y_data_1)"
   ]
  },
  {
   "cell_type": "code",
   "execution_count": 16,
   "metadata": {},
   "outputs": [
    {
     "name": "stdout",
     "output_type": "stream",
     "text": [
      "42000\n"
     ]
    }
   ],
   "source": [
    "print(len(img_data_df))"
   ]
  },
  {
   "cell_type": "code",
   "execution_count": 48,
   "metadata": {},
   "outputs": [
    {
     "name": "stdout",
     "output_type": "stream",
     "text": [
      "1.0\n",
      "[[0. 0. 0. ... 0. 0. 0.]\n",
      " [0. 0. 0. ... 0. 0. 0.]\n",
      " [0. 0. 0. ... 0. 0. 0.]\n",
      " ...\n",
      " [0. 0. 0. ... 0. 0. 0.]\n",
      " [0. 0. 0. ... 0. 0. 0.]\n",
      " [0. 0. 0. ... 0. 0. 0.]]\n"
     ]
    }
   ],
   "source": [
    "## scaling normalization을 진행\n",
    "scaler = MinMaxScaler()\n",
    "\n",
    "x_data = scaler.fit_transform(img_data_df[img_data_df.columns[1:]])\n",
    "\n",
    "train_x_data = x_data\n",
    "\n",
    "#print(x_data.max())\n",
    "\n",
    "print(x_data)"
   ]
  },
  {
   "cell_type": "code",
   "execution_count": 167,
   "metadata": {},
   "outputs": [],
   "source": [
    "# tensorflow로 머신러닝\n",
    "\n",
    "# placeholder \n",
    "X = tf.placeholder(shape=[None, 784], dtype=tf.float32)\n",
    "Y = tf.placeholder(shape=[None, 10], dtype=tf.float32)\n",
    "\n",
    "# Weight & bias\n",
    "W = tf.Variable(tf.random_normal([784,10]), name=\"weight\")\n",
    "b = tf.Variable(tf.random_normal([10]), name=\"bias\")\n",
    "\n",
    "# Hypothesis\n",
    "logit = tf.matmul(X, W) + b\n",
    "H = tf.nn.softmax(logit)\n",
    "# Cost\n",
    "cost = tf.reduce_mean(tf.nn.softmax_cross_entropy_with_logits_v2(logits=logit, labels = Y) )\n",
    "# train\n",
    "train = tf.train.GradientDescentOptimizer(learning_rate=0.5).minimize(cost)\n",
    "\n",
    "# session initializatin\n",
    "sess = tf.Session()\n",
    "sess.run(tf.global_variables_initializer())"
   ]
  },
  {
   "cell_type": "code",
   "execution_count": 55,
   "metadata": {
    "scrolled": true
   },
   "outputs": [
    {
     "name": "stdout",
     "output_type": "stream",
     "text": [
      "Cost value: 7.07559061050415\n",
      "Cost value: 6.782541751861572\n",
      "Cost value: 6.5090484619140625\n",
      "Cost value: 6.2543792724609375\n",
      "Cost value: 6.017690658569336\n",
      "Cost value: 5.797966480255127\n",
      "Cost value: 5.594200134277344\n",
      "Cost value: 5.405249118804932\n",
      "Cost value: 5.229936122894287\n",
      "Cost value: 5.067114353179932\n",
      "Cost value: 4.915637493133545\n",
      "Cost value: 4.774471282958984\n",
      "Cost value: 4.642632961273193\n",
      "Cost value: 4.519256591796875\n",
      "Cost value: 4.403558254241943\n",
      "Cost value: 4.2948503494262695\n",
      "Cost value: 4.192503929138184\n",
      "Cost value: 4.095991611480713\n",
      "Cost value: 4.004824638366699\n",
      "Cost value: 3.9185662269592285\n",
      "Cost value: 3.8368430137634277\n",
      "Cost value: 3.759286403656006\n",
      "Cost value: 3.6855952739715576\n",
      "Cost value: 3.615480661392212\n",
      "Cost value: 3.5486814975738525\n",
      "Cost value: 3.4849679470062256\n",
      "Cost value: 3.4241256713867188\n",
      "Cost value: 3.3659627437591553\n",
      "Cost value: 3.310298442840576\n",
      "Cost value: 3.256971836090088\n",
      "Cost value: 3.205845594406128\n",
      "Cost value: 3.156769275665283\n",
      "Cost value: 3.109628677368164\n",
      "Cost value: 3.064307928085327\n",
      "Cost value: 3.0206916332244873\n",
      "Cost value: 2.9786996841430664\n",
      "Cost value: 2.938234329223633\n",
      "Cost value: 2.899198293685913\n",
      "Cost value: 2.8615305423736572\n",
      "Cost value: 2.8251609802246094\n",
      "Cost value: 2.7900102138519287\n",
      "Cost value: 2.7560219764709473\n",
      "Cost value: 2.7231342792510986\n",
      "Cost value: 2.6912953853607178\n",
      "Cost value: 2.6604576110839844\n",
      "Cost value: 2.630563497543335\n",
      "Cost value: 2.6015796661376953\n",
      "Cost value: 2.573457717895508\n",
      "Cost value: 2.5461554527282715\n",
      "Cost value: 2.5196480751037598\n",
      "Cost value: 2.4938838481903076\n",
      "Cost value: 2.4688374996185303\n",
      "Cost value: 2.444484233856201\n",
      "Cost value: 2.4207825660705566\n",
      "Cost value: 2.3977243900299072\n",
      "Cost value: 2.375263214111328\n",
      "Cost value: 2.3533854484558105\n",
      "Cost value: 2.332068681716919\n",
      "Cost value: 2.311283826828003\n",
      "Cost value: 2.291020154953003\n",
      "Cost value: 2.2712461948394775\n",
      "Cost value: 2.2519524097442627\n",
      "Cost value: 2.233116388320923\n",
      "Cost value: 2.2147223949432373\n",
      "Cost value: 2.196758985519409\n",
      "Cost value: 2.1792008876800537\n",
      "Cost value: 2.1620428562164307\n",
      "Cost value: 2.1452689170837402\n",
      "Cost value: 2.1288609504699707\n",
      "Cost value: 2.1128110885620117\n",
      "Cost value: 2.0971031188964844\n",
      "Cost value: 2.081733226776123\n",
      "Cost value: 2.0666844844818115\n",
      "Cost value: 2.051945924758911\n",
      "Cost value: 2.037511110305786\n",
      "Cost value: 2.0233709812164307\n",
      "Cost value: 2.009507417678833\n",
      "Cost value: 1.9959254264831543\n",
      "Cost value: 1.9826048612594604\n",
      "Cost value: 1.9695435762405396\n",
      "Cost value: 1.9567362070083618\n",
      "Cost value: 1.9441672563552856\n",
      "Cost value: 1.9318363666534424\n",
      "Cost value: 1.9197347164154053\n",
      "Cost value: 1.9078565835952759\n",
      "Cost value: 1.8961915969848633\n",
      "Cost value: 1.8847370147705078\n",
      "Cost value: 1.8734910488128662\n",
      "Cost value: 1.8624427318572998\n",
      "Cost value: 1.8515853881835938\n",
      "Cost value: 1.8409196138381958\n",
      "Cost value: 1.8304352760314941\n",
      "Cost value: 1.8201302289962769\n",
      "Cost value: 1.8099991083145142\n",
      "Cost value: 1.8000379800796509\n",
      "Cost value: 1.7902411222457886\n",
      "Cost value: 1.7806036472320557\n",
      "Cost value: 1.7711261510849\n",
      "Cost value: 1.7618011236190796\n",
      "Cost value: 1.7526216506958008\n"
     ]
    }
   ],
   "source": [
    "# 학습 batch를 쓰지 않으면 상대적으로 학습이 제대로 안된다\n",
    "\n",
    "# 데이터 사이즈를 보고 전체 epoch수를 판단\n",
    "# epoch수를 많으면 많을 수록 학습의 효과 가 늘어나지만 시간이 너무 걸린다\n",
    "# 따라서 적절한 epoch수를 결정\n",
    "train_epoch = 300\n",
    "\n",
    "# 배치 사이즈를 설정해서 실제 데이터를 몇 개씩 나눠서 학습할 지 생각해준다\n",
    "batch_size = 100\n",
    "\n",
    "# # 피드 딕트에 X 쪽 이미지 밸류 Y 쪽 이미지 밸류\n",
    "# for step in range(train_epoch):\n",
    "    \n",
    "#     #  학습용 데이터에서 100개씩 뜯어오는 느낌이다\n",
    "#     num_of_iter = int( len(img_data_df) / batch_size )\n",
    "#     cost_val =0\n",
    "    \n",
    "#     for i in range(num_of_iter):\n",
    "#         batch_x, batch_y = mnist.train.next_batch(batch_size)\n",
    "#         # X 랑 Y를 batch_x batch_y\n",
    "#         _, cost_val = sess.run([train,cost], feed_dict={X:batch_x, \n",
    "#                                                     Y:batch_y})\n",
    "#     if step % 3 == 0:\n",
    "#         print(\"Cost value: {}\".format(cost_val))\n",
    "        \n",
    "# 요 아래는 배치 사이즈를 쓰지않고 학습하지 않았을 떄 \n",
    "\n",
    "for step in range(train_epoch):\n",
    "    \n",
    "    #  학습용 데이터에서 100개씩 뜯어오는 느낌이다\n",
    "    # X 랑 Y를 batch_x batch_y\n",
    "    _, cost_val = sess.run([train,cost], feed_dict={X:train_x_data, \n",
    "                                                    Y:train_y_data})\n",
    "    if step % 3 == 0:\n",
    "        print(\"Cost value: {}\".format(cost_val))"
   ]
  },
  {
   "cell_type": "code",
   "execution_count": 70,
   "metadata": {},
   "outputs": [
    {
     "name": "stdout",
     "output_type": "stream",
     "text": [
      "[[0. 0. 0. ... 0. 0. 0.]\n",
      " [0. 0. 0. ... 0. 0. 0.]\n",
      " [0. 0. 0. ... 0. 0. 0.]\n",
      " ...\n",
      " [0. 0. 0. ... 0. 0. 0.]\n",
      " [0. 0. 0. ... 0. 0. 0.]\n",
      " [0. 0. 0. ... 0. 0. 0.]]\n",
      "       0  1  2  3  4  5  6  7  8  9\n",
      "0      0  1  0  0  0  0  0  0  0  0\n",
      "1      1  0  0  0  0  0  0  0  0  0\n",
      "2      0  1  0  0  0  0  0  0  0  0\n",
      "3      0  0  0  0  1  0  0  0  0  0\n",
      "4      1  0  0  0  0  0  0  0  0  0\n",
      "...   .. .. .. .. .. .. .. .. .. ..\n",
      "41995  1  0  0  0  0  0  0  0  0  0\n",
      "41996  0  1  0  0  0  0  0  0  0  0\n",
      "41997  0  0  0  0  0  0  0  1  0  0\n",
      "41998  0  0  0  0  0  0  1  0  0  0\n",
      "41999  0  0  0  0  0  0  0  0  0  1\n",
      "\n",
      "[42000 rows x 10 columns]\n",
      "[[0 1 0 ... 0 0 0]\n",
      " [1 0 0 ... 0 0 0]\n",
      " [0 1 0 ... 0 0 0]\n",
      " ...\n",
      " [0 0 0 ... 1 0 0]\n",
      " [0 0 0 ... 0 0 0]\n",
      " [0 0 0 ... 0 0 1]]\n"
     ]
    }
   ],
   "source": [
    "print(train_x_data)\n",
    "print(train_y_data)\n",
    "\n",
    "train_y_data_1 = train_y_data.values\n",
    "print(train_y_data_1)"
   ]
  },
  {
   "cell_type": "code",
   "execution_count": 168,
   "metadata": {},
   "outputs": [
    {
     "name": "stdout",
     "output_type": "stream",
     "text": [
      "Cost value: 0.6556419134140015\n",
      "Cost value: 0.552849292755127\n",
      "Cost value: 0.4449002146720886\n",
      "Cost value: 0.4029943346977234\n",
      "Cost value: 0.29105567932128906\n",
      "Cost value: 0.33284130692481995\n",
      "Cost value: 0.4178275167942047\n",
      "Cost value: 0.34072113037109375\n",
      "Cost value: 0.2831098735332489\n",
      "Cost value: 0.2630051076412201\n"
     ]
    }
   ],
   "source": [
    "# 학습 next batch를 이용한 버젼\n",
    "\n",
    "# epoch수를 많으면 많을 수록 학습의 효과 가 늘어나지만 시간이 너무 걸린다\n",
    "# 따라서 적절한 epoch수를 결정\n",
    "train_epoch = 30\n",
    "\n",
    "# 배치 사이즈를 설정해서 실제 데이터를 몇 개씩 나눠서 학습할 지 생각해준다\n",
    "batch_size = 100\n",
    "\n",
    "# 피드 딕트에 X 쪽 이미지 밸류 Y 쪽 이미지 밸류\n",
    "for step in range(train_epoch):\n",
    "    \n",
    "    #  학습용 데이터에서 100개씩 뜯어오는 느낌이다\n",
    "    num_of_iter = int( len(img_data_df) / batch_size )\n",
    "    cost_val =0\n",
    "    \n",
    "    for i in range(num_of_iter):\n",
    "        batch_x, batch_y = next_batch(batch_size, train_x_data, train_y_data_1)\n",
    "        # X 랑 Y를 batch_x batch_y\n",
    "        _, cost_val = sess.run([train,cost], feed_dict={X:batch_x, \n",
    "                                                    Y:batch_y})\n",
    "    if step % 3 == 0:\n",
    "        print(\"Cost value: {}\".format(cost_val))"
   ]
  },
  {
   "cell_type": "code",
   "execution_count": 67,
   "metadata": {},
   "outputs": [],
   "source": [
    "# mnist.train.next_batch()\n",
    "# next_batch() 함수를 만들어봅시다?? ㅋㅋ\n",
    "def next_batch(num, data, labels):\n",
    "    # return total of num random smaples and labels\n",
    "    \n",
    "    idx = np.arange(0, len(data))\n",
    "    np.random.shuffle(idx)\n",
    "    \n",
    "    idx = idx[:num]\n",
    "    \n",
    "    data_shuffle = [data[i] for i in idx]\n",
    "    labels_shuffle = [labels[i] for i in idx]\n",
    "    \n",
    "    return np.asarray(data_shuffle), np.asarray(labels_shuffle)\n",
    "    \n",
    "    \n",
    "\n",
    "\n"
   ]
  },
  {
   "cell_type": "code",
   "execution_count": 169,
   "metadata": {},
   "outputs": [
    {
     "name": "stdout",
     "output_type": "stream",
     "text": [
      "Accuracy: 0.9226999878883362\n"
     ]
    }
   ],
   "source": [
    "# 잠시 정확도를 체크\n",
    "predict = tf.argmax(H,1)\n",
    "correct = tf.equal(predict, tf.argmax(Y,1))\n",
    "accuracy = tf.reduce_mean(tf.cast(correct, dtype=tf.float32) )\n",
    "print(\"Accuracy: {}\".format(sess.run(accuracy, feed_dict={X:mnist.test.images, Y:mnist.test.labels})))\n",
    "\n",
    "# 랜덤변수을 테스트 데이타의 전체 로우 수와 0 사이 구한다\n",
    "#r = np.random.randint(0, mnist.test.num_examples)\n",
    "\n",
    "# 난수가 의미하는 라벨 값을 먼저 구해봄!\n",
    "#sess.run(tf.argmax(mnist.test.labels[r:r+1], axis=1)) #\n",
    "#print(\"Label: {}\".format(sess.run(tf.argmax(mnist.test.labels[r:r+1], axis=1))))"
   ]
  },
  {
   "cell_type": "code",
   "execution_count": 159,
   "metadata": {
    "scrolled": true
   },
   "outputs": [
    {
     "name": "stdout",
     "output_type": "stream",
     "text": [
      "Predict: [2 0 9 ... 3 9 2]\n"
     ]
    }
   ],
   "source": [
    "print(\"Predict: {}\".format(sess.run(tf.argmax(H,1), feed_dict={X:img_data_test_df}))) \n",
    "\n"
   ]
  },
  {
   "cell_type": "code",
   "execution_count": 170,
   "metadata": {},
   "outputs": [
    {
     "name": "stdout",
     "output_type": "stream",
     "text": [
      "       pixel0  pixel1  pixel2  pixel3  pixel4  pixel5  pixel6  pixel7  pixel8  \\\n",
      "0           0       0       0       0       0       0       0       0       0   \n",
      "1           0       0       0       0       0       0       0       0       0   \n",
      "2           0       0       0       0       0       0       0       0       0   \n",
      "3           0       0       0       0       0       0       0       0       0   \n",
      "4           0       0       0       0       0       0       0       0       0   \n",
      "...       ...     ...     ...     ...     ...     ...     ...     ...     ...   \n",
      "27995       0       0       0       0       0       0       0       0       0   \n",
      "27996       0       0       0       0       0       0       0       0       0   \n",
      "27997       0       0       0       0       0       0       0       0       0   \n",
      "27998       0       0       0       0       0       0       0       0       0   \n",
      "27999       0       0       0       0       0       0       0       0       0   \n",
      "\n",
      "       pixel9  ...  pixel774  pixel775  pixel776  pixel777  pixel778  \\\n",
      "0           0  ...         0         0         0         0         0   \n",
      "1           0  ...         0         0         0         0         0   \n",
      "2           0  ...         0         0         0         0         0   \n",
      "3           0  ...         0         0         0         0         0   \n",
      "4           0  ...         0         0         0         0         0   \n",
      "...       ...  ...       ...       ...       ...       ...       ...   \n",
      "27995       0  ...         0         0         0         0         0   \n",
      "27996       0  ...         0         0         0         0         0   \n",
      "27997       0  ...         0         0         0         0         0   \n",
      "27998       0  ...         0         0         0         0         0   \n",
      "27999       0  ...         0         0         0         0         0   \n",
      "\n",
      "       pixel779  pixel780  pixel781  pixel782  pixel783  \n",
      "0             0         0         0         0         0  \n",
      "1             0         0         0         0         0  \n",
      "2             0         0         0         0         0  \n",
      "3             0         0         0         0         0  \n",
      "4             0         0         0         0         0  \n",
      "...         ...       ...       ...       ...       ...  \n",
      "27995         0         0         0         0         0  \n",
      "27996         0         0         0         0         0  \n",
      "27997         0         0         0         0         0  \n",
      "27998         0         0         0         0         0  \n",
      "27999         0         0         0         0         0  \n",
      "\n",
      "[28000 rows x 784 columns]\n"
     ]
    }
   ],
   "source": [
    "print(img_data_test_df)"
   ]
  },
  {
   "cell_type": "code",
   "execution_count": 172,
   "metadata": {},
   "outputs": [
    {
     "name": "stdout",
     "output_type": "stream",
     "text": [
      "[[0. 0. 0. ... 0. 0. 0.]\n",
      " [0. 0. 0. ... 0. 0. 0.]\n",
      " [0. 0. 0. ... 0. 0. 0.]\n",
      " ...\n",
      " [0. 0. 0. ... 0. 0. 0.]\n",
      " [0. 0. 0. ... 0. 0. 0.]\n",
      " [0. 0. 0. ... 0. 0. 0.]]\n"
     ]
    }
   ],
   "source": [
    "\n",
    "new_test_df = scaler.fit_transform(img_data_test_df)\n",
    "print(new_test_df)"
   ]
  },
  {
   "cell_type": "code",
   "execution_count": 173,
   "metadata": {},
   "outputs": [
    {
     "name": "stdout",
     "output_type": "stream",
     "text": [
      "       0\n",
      "0      2\n",
      "1      0\n",
      "2      9\n",
      "3      7\n",
      "4      3\n",
      "...   ..\n",
      "27995  9\n",
      "27996  7\n",
      "27997  3\n",
      "27998  9\n",
      "27999  2\n",
      "\n",
      "[28000 rows x 1 columns]\n"
     ]
    }
   ],
   "source": [
    "result = sess.run(tf.argmax(H,1), feed_dict={X:new_test_df})\n",
    "result1 = pd.DataFrame(result)\n",
    "print(result1)"
   ]
  },
  {
   "cell_type": "code",
   "execution_count": 174,
   "metadata": {
    "scrolled": true
   },
   "outputs": [
    {
     "name": "stdout",
     "output_type": "stream",
     "text": [
      "       ImageId  Label\n",
      "0            1      0\n",
      "1            2      0\n",
      "2            3      0\n",
      "3            4      0\n",
      "4            5      0\n",
      "...        ...    ...\n",
      "27995    27996      0\n",
      "27996    27997      0\n",
      "27997    27998      0\n",
      "27998    27999      0\n",
      "27999    28000      0\n",
      "\n",
      "[28000 rows x 2 columns]\n"
     ]
    }
   ],
   "source": [
    "# gender_submission 파일 불러오기\n",
    "submit_df = pd.read_csv(\"./digit_recog/sample_submission.csv\")\n",
    "print(submit_df)\n",
    "\n",
    "submit_df[\"Label\"] = result1\n",
    "\n",
    "\n",
    "#print(submit_df)\n",
    "\n"
   ]
  },
  {
   "cell_type": "code",
   "execution_count": 175,
   "metadata": {},
   "outputs": [
    {
     "name": "stdout",
     "output_type": "stream",
     "text": [
      "       ImageId  Label\n",
      "0            1      2\n",
      "1            2      0\n",
      "2            3      9\n",
      "3            4      7\n",
      "4            5      3\n",
      "...        ...    ...\n",
      "27995    27996      9\n",
      "27996    27997      7\n",
      "27997    27998      3\n",
      "27998    27999      9\n",
      "27999    28000      2\n",
      "\n",
      "[28000 rows x 2 columns]\n"
     ]
    }
   ],
   "source": [
    "print(submit_df)"
   ]
  },
  {
   "cell_type": "code",
   "execution_count": 176,
   "metadata": {},
   "outputs": [],
   "source": [
    "submit_df = pd.DataFrame(submit_df, dtype=\"int32\")\n",
    "\n",
    "submit_df.to_csv(\"./digit_recog/submission_final.csv\",\n",
    "                sep = \",\",\n",
    "                header = True,\n",
    "                index = False)"
   ]
  },
  {
   "cell_type": "code",
   "execution_count": null,
   "metadata": {},
   "outputs": [],
   "source": [
    "#test_df = pd.read_csv(\"./data/titanic/test.csv\")"
   ]
  },
  {
   "cell_type": "code",
   "execution_count": 149,
   "metadata": {},
   "outputs": [
    {
     "name": "stdout",
     "output_type": "stream",
     "text": [
      "<PIL.Image.Image image mode=L size=28x28 at 0x1C082C91438>\n",
      "[[255 255 255 255 255 255 255 255 255 255 255 255 255 255 255 255 255 255\n",
      "  255 255 255 255 255 255 255 255 255 255]\n",
      " [255 255 255 255 255 255 255 255 255 255 255 255 255 255 255 255 255 255\n",
      "  255 255 255 255 255 255 255 255 255 255]\n",
      " [255 255 255 255 255 255 255 255 253 254 255 255 255 255 255 255 255 255\n",
      "  255 255 255 255 255 255 255 255 255 255]\n",
      " [255 255 255 255 255 255 255 255 223 171 193 194 199 210 221 233 237 253\n",
      "  255 255 255 255 255 255 255 255 255 255]\n",
      " [255 255 255 255 255 255 255 255 219 216 252 249 241 228 217 206 195 198\n",
      "  255 255 255 255 255 255 255 255 255 255]\n",
      " [255 255 255 255 255 255 255 255 215 224 255 255 255 255 255 255 249 196\n",
      "  255 255 255 255 255 255 255 255 255 255]\n",
      " [255 255 255 255 255 255 255 255 204 235 255 255 255 255 255 255 246 197\n",
      "  255 255 255 255 255 255 255 255 255 255]\n",
      " [255 255 255 255 255 255 255 255 197 245 255 255 255 255 255 255 240 199\n",
      "  255 255 255 255 255 255 255 255 255 255]\n",
      " [255 255 255 255 255 255 255 255 191 253 255 255 255 255 255 255 217 219\n",
      "  255 255 255 255 255 255 255 255 255 255]\n",
      " [255 255 255 255 255 255 255 248 193 255 255 255 255 255 255 255 194 244\n",
      "  255 255 255 255 255 255 255 255 255 255]\n",
      " [255 255 255 255 255 255 255 232 205 255 255 255 255 255 255 246 193 255\n",
      "  255 255 255 255 255 255 255 255 255 255]\n",
      " [255 255 255 255 255 255 255 225 225 255 255 255 255 255 255 220 214 255\n",
      "  255 255 255 255 255 255 255 255 255 255]\n",
      " [255 255 255 255 255 255 255 254 254 255 255 255 255 255 255 192 246 255\n",
      "  255 255 255 255 255 255 255 255 255 255]\n",
      " [255 255 255 255 255 255 255 255 255 255 255 255 255 255 248 193 255 255\n",
      "  255 255 255 255 255 255 255 255 255 255]\n",
      " [255 255 255 255 255 255 255 255 255 255 255 255 255 255 226 210 255 255\n",
      "  255 255 255 255 255 255 255 255 255 255]\n",
      " [255 255 255 255 255 255 255 255 255 255 255 255 255 255 205 233 255 255\n",
      "  255 255 255 255 255 255 255 255 255 255]\n",
      " [255 255 255 255 255 255 255 255 255 255 255 255 255 255 196 245 255 255\n",
      "  255 255 255 255 255 255 255 255 255 255]\n",
      " [255 255 255 255 255 255 255 255 255 255 255 255 255 253 190 253 255 255\n",
      "  255 255 255 255 255 255 255 255 255 255]\n",
      " [255 255 255 255 255 255 255 255 255 255 255 255 255 241 198 255 255 255\n",
      "  255 255 255 255 255 255 255 255 255 255]\n",
      " [255 255 255 255 255 255 255 255 255 255 255 255 255 238 202 255 255 255\n",
      "  255 255 255 255 255 255 255 255 255 255]\n",
      " [255 255 255 255 255 255 255 255 255 255 255 255 255 231 207 255 255 255\n",
      "  255 255 255 255 255 255 255 255 255 255]\n",
      " [255 255 255 255 255 255 255 255 255 255 255 255 255 225 211 255 255 255\n",
      "  255 255 255 255 255 255 255 255 255 255]\n",
      " [255 255 255 255 255 255 255 255 255 255 255 255 255 202 231 255 255 255\n",
      "  255 255 255 255 255 255 255 255 255 255]\n",
      " [255 255 255 255 255 255 255 255 255 255 255 255 255 193 252 255 255 255\n",
      "  255 255 255 255 255 255 255 255 255 255]\n",
      " [255 255 255 255 255 255 255 255 255 255 255 255 255 248 255 255 255 255\n",
      "  255 255 255 255 255 255 255 255 255 255]\n",
      " [255 255 255 255 255 255 255 255 255 255 255 255 255 255 255 255 255 255\n",
      "  255 255 255 255 255 255 255 255 255 255]\n",
      " [255 255 255 255 255 255 255 255 255 255 255 255 255 255 255 255 255 255\n",
      "  255 255 255 255 255 255 255 255 255 255]\n",
      " [255 255 255 255 255 255 255 255 255 255 255 255 255 255 255 255 255 255\n",
      "  255 255 255 255 255 255 255 255 255 255]]\n",
      "[[255 255 255 255 255 255 255 255 255 255 255 255 255 255 255 255 255 255\n",
      "  255 255 255 255 255 255 255 255 255 255 255 255 255 255 255 255 255 255\n",
      "  255 255 255 255 255 255 255 255 255 255 255 255 255 255 255 255 255 255\n",
      "  255 255 255 255 255 255 255 255 255 255 253 254 255 255 255 255 255 255\n",
      "  255 255 255 255 255 255 255 255 255 255 255 255 255 255 255 255 255 255\n",
      "  255 255 223 171 193 194 199 210 221 233 237 253 255 255 255 255 255 255\n",
      "  255 255 255 255 255 255 255 255 255 255 255 255 219 216 252 249 241 228\n",
      "  217 206 195 198 255 255 255 255 255 255 255 255 255 255 255 255 255 255\n",
      "  255 255 255 255 215 224 255 255 255 255 255 255 249 196 255 255 255 255\n",
      "  255 255 255 255 255 255 255 255 255 255 255 255 255 255 204 235 255 255\n",
      "  255 255 255 255 246 197 255 255 255 255 255 255 255 255 255 255 255 255\n",
      "  255 255 255 255 255 255 197 245 255 255 255 255 255 255 240 199 255 255\n",
      "  255 255 255 255 255 255 255 255 255 255 255 255 255 255 255 255 191 253\n",
      "  255 255 255 255 255 255 217 219 255 255 255 255 255 255 255 255 255 255\n",
      "  255 255 255 255 255 255 255 248 193 255 255 255 255 255 255 255 194 244\n",
      "  255 255 255 255 255 255 255 255 255 255 255 255 255 255 255 255 255 232\n",
      "  205 255 255 255 255 255 255 246 193 255 255 255 255 255 255 255 255 255\n",
      "  255 255 255 255 255 255 255 255 255 225 225 255 255 255 255 255 255 220\n",
      "  214 255 255 255 255 255 255 255 255 255 255 255 255 255 255 255 255 255\n",
      "  255 254 254 255 255 255 255 255 255 192 246 255 255 255 255 255 255 255\n",
      "  255 255 255 255 255 255 255 255 255 255 255 255 255 255 255 255 255 255\n",
      "  248 193 255 255 255 255 255 255 255 255 255 255 255 255 255 255 255 255\n",
      "  255 255 255 255 255 255 255 255 255 255 226 210 255 255 255 255 255 255\n",
      "  255 255 255 255 255 255 255 255 255 255 255 255 255 255 255 255 255 255\n",
      "  255 255 205 233 255 255 255 255 255 255 255 255 255 255 255 255 255 255\n",
      "  255 255 255 255 255 255 255 255 255 255 255 255 196 245 255 255 255 255\n",
      "  255 255 255 255 255 255 255 255 255 255 255 255 255 255 255 255 255 255\n",
      "  255 255 255 253 190 253 255 255 255 255 255 255 255 255 255 255 255 255\n",
      "  255 255 255 255 255 255 255 255 255 255 255 255 255 241 198 255 255 255\n",
      "  255 255 255 255 255 255 255 255 255 255 255 255 255 255 255 255 255 255\n",
      "  255 255 255 255 255 238 202 255 255 255 255 255 255 255 255 255 255 255\n",
      "  255 255 255 255 255 255 255 255 255 255 255 255 255 255 255 231 207 255\n",
      "  255 255 255 255 255 255 255 255 255 255 255 255 255 255 255 255 255 255\n",
      "  255 255 255 255 255 255 255 225 211 255 255 255 255 255 255 255 255 255\n",
      "  255 255 255 255 255 255 255 255 255 255 255 255 255 255 255 255 255 202\n",
      "  231 255 255 255 255 255 255 255 255 255 255 255 255 255 255 255 255 255\n",
      "  255 255 255 255 255 255 255 255 255 193 252 255 255 255 255 255 255 255\n",
      "  255 255 255 255 255 255 255 255 255 255 255 255 255 255 255 255 255 255\n",
      "  255 248 255 255 255 255 255 255 255 255 255 255 255 255 255 255 255 255\n",
      "  255 255 255 255 255 255 255 255 255 255 255 255 255 255 255 255 255 255\n",
      "  255 255 255 255 255 255 255 255 255 255 255 255 255 255 255 255 255 255\n",
      "  255 255 255 255 255 255 255 255 255 255 255 255 255 255 255 255 255 255\n",
      "  255 255 255 255 255 255 255 255 255 255 255 255 255 255 255 255 255 255\n",
      "  255 255 255 255 255 255 255 255 255 255]]\n"
     ]
    }
   ],
   "source": [
    "# img data\n",
    "# 불러온 이미지 데이타는 3차원 이라 2차원으로 변경\n",
    "import PIL.Image as pilimg\n",
    "import numpy as np \n",
    "\n",
    "# read img\n",
    "#im = pilimg.open(\"./digit_recog/7.jpg\").convert(\"L\")\n",
    "\n",
    "im = pilimg.open(\"./digit_recog/seven.png\").convert(\"L\")\n",
    "pix_g = im.resize((28,28))\n",
    "print(pix_g)\n",
    "\n",
    "pix_arr = np.array(pix_g)\n",
    "print(pix_arr)\n",
    "\n",
    "# pix_arr2 = pix_arr[[pix_arr == 255]-255]\n",
    "# print(pix_arr2)\n",
    "#print(pix_arr.shape)\n",
    "\n",
    "pix_arr1 = pix_arr.reshape(1,-1)\n",
    "print(pix_arr1)\n",
    "# Display image\n",
    "#im.show()\n",
    " \n",
    "# Fetch image pixel data to numpy array\n",
    "#pix = np.array(im)\n",
    "\n",
    "#pix1 = pix\n",
    "#print(pix)\n",
    "\n",
    "\n",
    "#rint(pix1.shape)"
   ]
  },
  {
   "cell_type": "code",
   "execution_count": 148,
   "metadata": {},
   "outputs": [
    {
     "name": "stdout",
     "output_type": "stream",
     "text": [
      "[[0. 0. 0. 0. 0. 0. 0. 0. 0. 0. 0. 0. 0. 0. 0. 0. 0. 0. 0. 0. 0. 0. 0. 0.\n",
      "  0. 0. 0. 0. 0. 0. 0. 0. 0. 0. 0. 0. 0. 0. 0. 0. 0. 0. 0. 0. 0. 0. 0. 0.\n",
      "  0. 0. 0. 0. 0. 0. 0. 0. 0. 0. 0. 0. 0. 0. 0. 0. 0. 0. 0. 0. 0. 0. 0. 0.\n",
      "  0. 0. 0. 0. 0. 0. 0. 0. 0. 0. 0. 0. 0. 0. 0. 0. 0. 0. 0. 0. 0. 0. 0. 0.\n",
      "  0. 0. 0. 0. 0. 0. 0. 0. 0. 0. 0. 0. 0. 0. 0. 0. 0. 0. 0. 0. 0. 0. 0. 0.\n",
      "  0. 0. 0. 0. 0. 0. 0. 0. 0. 0. 0. 0. 0. 0. 0. 0. 0. 0. 0. 0. 0. 0. 0. 0.\n",
      "  0. 0. 0. 0. 0. 0. 0. 0. 0. 0. 0. 0. 0. 0. 0. 0. 0. 0. 0. 0. 0. 0. 0. 0.\n",
      "  0. 0. 0. 0. 0. 0. 0. 0. 0. 0. 0. 0. 0. 0. 0. 0. 0. 0. 0. 0. 0. 0. 0. 0.\n",
      "  0. 0. 0. 0. 0. 0. 0. 0. 0. 0. 0. 0. 0. 0. 0. 0. 0. 0. 0. 0. 0. 0. 0. 0.\n",
      "  0. 0. 0. 0. 0. 0. 0. 0. 0. 0. 0. 0. 0. 0. 0. 0. 0. 0. 0. 0. 0. 0. 0. 0.\n",
      "  0. 0. 0. 0. 0. 0. 0. 0. 0. 0. 0. 0. 0. 0. 0. 0. 0. 0. 0. 0. 0. 0. 0. 0.\n",
      "  0. 0. 0. 0. 0. 0. 0. 0. 0. 0. 0. 0. 0. 0. 0. 0. 0. 0. 0. 0. 0. 0. 0. 0.\n",
      "  0. 0. 0. 0. 0. 0. 0. 0. 0. 0. 0. 0. 0. 0. 0. 0. 0. 0. 0. 0. 0. 0. 0. 0.\n",
      "  0. 0. 0. 0. 0. 0. 0. 0. 0. 0. 0. 0. 0. 0. 0. 0. 0. 0. 0. 0. 0. 0. 0. 0.\n",
      "  0. 0. 0. 0. 0. 0. 0. 0. 0. 0. 0. 0. 0. 0. 0. 0. 0. 0. 0. 0. 0. 0. 0. 0.\n",
      "  0. 0. 0. 0. 0. 0. 0. 0. 0. 0. 0. 0. 0. 0. 0. 0. 0. 0. 0. 0. 0. 0. 0. 0.\n",
      "  0. 0. 0. 0. 0. 0. 0. 0. 0. 0. 0. 0. 0. 0. 0. 0. 0. 0. 0. 0. 0. 0. 0. 0.\n",
      "  0. 0. 0. 0. 0. 0. 0. 0. 0. 0. 0. 0. 0. 0. 0. 0. 0. 0. 0. 0. 0. 0. 0. 0.\n",
      "  0. 0. 0. 0. 0. 0. 0. 0. 0. 0. 0. 0. 0. 0. 0. 0. 0. 0. 0. 0. 0. 0. 0. 0.\n",
      "  0. 0. 0. 0. 0. 0. 0. 0. 0. 0. 0. 0. 0. 0. 0. 0. 0. 0. 0. 0. 0. 0. 0. 0.\n",
      "  0. 0. 0. 0. 0. 0. 0. 0. 0. 0. 0. 0. 0. 0. 0. 0. 0. 0. 0. 0. 0. 0. 0. 0.\n",
      "  0. 0. 0. 0. 0. 0. 0. 0. 0. 0. 0. 0. 0. 0. 0. 0. 0. 0. 0. 0. 0. 0. 0. 0.\n",
      "  0. 0. 0. 0. 0. 0. 0. 0. 0. 0. 0. 0. 0. 0. 0. 0. 0. 0. 0. 0. 0. 0. 0. 0.\n",
      "  0. 0. 0. 0. 0. 0. 0. 0. 0. 0. 0. 0. 0. 0. 0. 0. 0. 0. 0. 0. 0. 0. 0. 0.\n",
      "  0. 0. 0. 0. 0. 0. 0. 0. 0. 0. 0. 0. 0. 0. 0. 0. 0. 0. 0. 0. 0. 0. 0. 0.\n",
      "  0. 0. 0. 0. 0. 0. 0. 0. 0. 0. 0. 0. 0. 0. 0. 0. 0. 0. 0. 0. 0. 0. 0. 0.\n",
      "  0. 0. 0. 0. 0. 0. 0. 0. 0. 0. 0. 0. 0. 0. 0. 0. 0. 0. 0. 0. 0. 0. 0. 0.\n",
      "  0. 0. 0. 0. 0. 0. 0. 0. 0. 0. 0. 0. 0. 0. 0. 0. 0. 0. 0. 0. 0. 0. 0. 0.\n",
      "  0. 0. 0. 0. 0. 0. 0. 0. 0. 0. 0. 0. 0. 0. 0. 0. 0. 0. 0. 0. 0. 0. 0. 0.\n",
      "  0. 0. 0. 0. 0. 0. 0. 0. 0. 0. 0. 0. 0. 0. 0. 0. 0. 0. 0. 0. 0. 0. 0. 0.\n",
      "  0. 0. 0. 0. 0. 0. 0. 0. 0. 0. 0. 0. 0. 0. 0. 0. 0. 0. 0. 0. 0. 0. 0. 0.\n",
      "  0. 0. 0. 0. 0. 0. 0. 0. 0. 0. 0. 0. 0. 0. 0. 0. 0. 0. 0. 0. 0. 0. 0. 0.\n",
      "  0. 0. 0. 0. 0. 0. 0. 0. 0. 0. 0. 0. 0. 0. 0. 0.]]\n"
     ]
    }
   ],
   "source": [
    "###### DD\n",
    "# pix_arr1 \n",
    "# scaler = MinMaxScaler()\n",
    "\n",
    "# scaled_pix_arr = scaler.fit_transform(pix_arr1)\n",
    "\n",
    "# print(scaled_pix_arr)"
   ]
  },
  {
   "cell_type": "code",
   "execution_count": 150,
   "metadata": {
    "scrolled": true
   },
   "outputs": [
    {
     "name": "stdout",
     "output_type": "stream",
     "text": [
      "[[255 255 255 255 255 255 255 255 255 255 255 255 255 255 255 255 255 255\n",
      "  255 255 255 255 255 255 255 255 255 255 255 255 255 255 255 255 255 255\n",
      "  255 255 255 255 255 255 255 255 255 255 255 255 255 255 255 255 255 255\n",
      "  255 255 255 255 255 255 255 255 255 255   2   1 255 255 255 255 255 255\n",
      "  255 255 255 255 255 255 255 255 255 255 255 255 255 255 255 255 255 255\n",
      "  255 255  32  84  62  61  56  45  34  22  18   2 255 255 255 255 255 255\n",
      "  255 255 255 255 255 255 255 255 255 255 255 255  36  39   3   6  14  27\n",
      "   38  49  60  57 255 255 255 255 255 255 255 255 255 255 255 255 255 255\n",
      "  255 255 255 255  40  31 255 255 255 255 255 255   6  59 255 255 255 255\n",
      "  255 255 255 255 255 255 255 255 255 255 255 255 255 255  51  20 255 255\n",
      "  255 255 255 255   9  58 255 255 255 255 255 255 255 255 255 255 255 255\n",
      "  255 255 255 255 255 255  58  10 255 255 255 255 255 255  15  56 255 255\n",
      "  255 255 255 255 255 255 255 255 255 255 255 255 255 255 255 255  64   2\n",
      "  255 255 255 255 255 255  38  36 255 255 255 255 255 255 255 255 255 255\n",
      "  255 255 255 255 255 255 255   7  62 255 255 255 255 255 255 255  61  11\n",
      "  255 255 255 255 255 255 255 255 255 255 255 255 255 255 255 255 255  23\n",
      "   50 255 255 255 255 255 255   9  62 255 255 255 255 255 255 255 255 255\n",
      "  255 255 255 255 255 255 255 255 255  30  30 255 255 255 255 255 255  35\n",
      "   41 255 255 255 255 255 255 255 255 255 255 255 255 255 255 255 255 255\n",
      "  255   1   1 255 255 255 255 255 255  63   9 255 255 255 255 255 255 255\n",
      "  255 255 255 255 255 255 255 255 255 255 255 255 255 255 255 255 255 255\n",
      "    7  62 255 255 255 255 255 255 255 255 255 255 255 255 255 255 255 255\n",
      "  255 255 255 255 255 255 255 255 255 255  29  45 255 255 255 255 255 255\n",
      "  255 255 255 255 255 255 255 255 255 255 255 255 255 255 255 255 255 255\n",
      "  255 255  50  22 255 255 255 255 255 255 255 255 255 255 255 255 255 255\n",
      "  255 255 255 255 255 255 255 255 255 255 255 255  59  10 255 255 255 255\n",
      "  255 255 255 255 255 255 255 255 255 255 255 255 255 255 255 255 255 255\n",
      "  255 255 255   2  65   2 255 255 255 255 255 255 255 255 255 255 255 255\n",
      "  255 255 255 255 255 255 255 255 255 255 255 255 255  14  57 255 255 255\n",
      "  255 255 255 255 255 255 255 255 255 255 255 255 255 255 255 255 255 255\n",
      "  255 255 255 255 255  17  53 255 255 255 255 255 255 255 255 255 255 255\n",
      "  255 255 255 255 255 255 255 255 255 255 255 255 255 255 255  24  48 255\n",
      "  255 255 255 255 255 255 255 255 255 255 255 255 255 255 255 255 255 255\n",
      "  255 255 255 255 255 255 255  30  44 255 255 255 255 255 255 255 255 255\n",
      "  255 255 255 255 255 255 255 255 255 255 255 255 255 255 255 255 255  53\n",
      "   24 255 255 255 255 255 255 255 255 255 255 255 255 255 255 255 255 255\n",
      "  255 255 255 255 255 255 255 255 255  62   3 255 255 255 255 255 255 255\n",
      "  255 255 255 255 255 255 255 255 255 255 255 255 255 255 255 255 255 255\n",
      "  255   7 255 255 255 255 255 255 255 255 255 255 255 255 255 255 255 255\n",
      "  255 255 255 255 255 255 255 255 255 255 255 255 255 255 255 255 255 255\n",
      "  255 255 255 255 255 255 255 255 255 255 255 255 255 255 255 255 255 255\n",
      "  255 255 255 255 255 255 255 255 255 255 255 255 255 255 255 255 255 255\n",
      "  255 255 255 255 255 255 255 255 255 255 255 255 255 255 255 255 255 255\n",
      "  255 255 255 255 255 255 255 255 255 255]]\n"
     ]
    }
   ],
   "source": [
    "# pix_arr2 = pix_arr.reshape(1,-1)\n",
    "# 이미지 파일 가장 큰 숫자 전처리\n",
    "# 255으로 빼줌 \n",
    "\n",
    "pix_arr3 = 255 - pix_arr2\n",
    "print(pix_arr3)\n",
    "\n",
    "#print(pix_arr2)"
   ]
  },
  {
   "cell_type": "code",
   "execution_count": 164,
   "metadata": {},
   "outputs": [
    {
     "name": "stdout",
     "output_type": "stream",
     "text": [
      "[[0. 0. 0. 0. 0. 0. 0. 0. 0. 0. 0. 0. 0. 0. 0. 0. 0. 0. 0. 0. 0. 0. 0. 0.\n",
      "  0. 0. 0. 0. 0. 0. 0. 0. 0. 0. 0. 0. 0. 0. 0. 0. 0. 0. 0. 0. 0. 0. 0. 0.\n",
      "  0. 0. 0. 0. 0. 0. 0. 0. 0. 0. 0. 0. 0. 0. 0. 0. 0. 0. 0. 0. 0. 0. 0. 0.\n",
      "  0. 0. 0. 0. 0. 0. 0. 0. 0. 0. 0. 0. 0. 0. 0. 0. 0. 0. 0. 0. 0. 0. 0. 0.\n",
      "  0. 0. 0. 0. 0. 0. 0. 0. 0. 0. 0. 0. 0. 0. 0. 0. 0. 0. 0. 0. 0. 0. 0. 0.\n",
      "  0. 0. 0. 0. 0. 0. 0. 0. 0. 0. 0. 0. 0. 0. 0. 0. 0. 0. 0. 0. 0. 0. 0. 0.\n",
      "  0. 0. 0. 0. 0. 0. 0. 0. 0. 0. 0. 0. 0. 0. 0. 0. 0. 0. 0. 0. 0. 0. 0. 0.\n",
      "  0. 0. 0. 0. 0. 0. 0. 0. 0. 0. 0. 0. 0. 0. 0. 0. 0. 0. 0. 0. 0. 0. 0. 0.\n",
      "  0. 0. 0. 0. 0. 0. 0. 0. 0. 0. 0. 0. 0. 0. 0. 0. 0. 0. 0. 0. 0. 0. 0. 0.\n",
      "  0. 0. 0. 0. 0. 0. 0. 0. 0. 0. 0. 0. 0. 0. 0. 0. 0. 0. 0. 0. 0. 0. 0. 0.\n",
      "  0. 0. 0. 0. 0. 0. 0. 0. 0. 0. 0. 0. 0. 0. 0. 0. 0. 0. 0. 0. 0. 0. 0. 0.\n",
      "  0. 0. 0. 0. 0. 0. 0. 0. 0. 0. 0. 0. 0. 0. 0. 0. 0. 0. 0. 0. 0. 0. 0. 0.\n",
      "  0. 0. 0. 0. 0. 0. 0. 0. 0. 0. 0. 0. 0. 0. 0. 0. 0. 0. 0. 0. 0. 0. 0. 0.\n",
      "  0. 0. 0. 0. 0. 0. 0. 0. 0. 0. 0. 0. 0. 0. 0. 0. 0. 0. 0. 0. 0. 0. 0. 0.\n",
      "  0. 0. 0. 0. 0. 0. 0. 0. 0. 0. 0. 0. 0. 0. 0. 0. 0. 0. 0. 0. 0. 0. 0. 0.\n",
      "  0. 0. 0. 0. 0. 0. 0. 0. 0. 0. 0. 0. 0. 0. 0. 0. 0. 0. 0. 0. 0. 0. 0. 0.\n",
      "  0. 0. 0. 0. 0. 0. 0. 0. 0. 0. 0. 0. 0. 0. 0. 0. 0. 0. 0. 0. 0. 0. 0. 0.\n",
      "  0. 0. 0. 0. 0. 0. 0. 0. 0. 0. 0. 0. 0. 0. 0. 0. 0. 0. 0. 0. 0. 0. 0. 0.\n",
      "  0. 0. 0. 0. 0. 0. 0. 0. 0. 0. 0. 0. 0. 0. 0. 0. 0. 0. 0. 0. 0. 0. 0. 0.\n",
      "  0. 0. 0. 0. 0. 0. 0. 0. 0. 0. 0. 0. 0. 0. 0. 0. 0. 0. 0. 0. 0. 0. 0. 0.\n",
      "  0. 0. 0. 0. 0. 0. 0. 0. 0. 0. 0. 0. 0. 0. 0. 0. 0. 0. 0. 0. 0. 0. 0. 0.\n",
      "  0. 0. 0. 0. 0. 0. 0. 0. 0. 0. 0. 0. 0. 0. 0. 0. 0. 0. 0. 0. 0. 0. 0. 0.\n",
      "  0. 0. 0. 0. 0. 0. 0. 0. 0. 0. 0. 0. 0. 0. 0. 0. 0. 0. 0. 0. 0. 0. 0. 0.\n",
      "  0. 0. 0. 0. 0. 0. 0. 0. 0. 0. 0. 0. 0. 0. 0. 0. 0. 0. 0. 0. 0. 0. 0. 0.\n",
      "  0. 0. 0. 0. 0. 0. 0. 0. 0. 0. 0. 0. 0. 0. 0. 0. 0. 0. 0. 0. 0. 0. 0. 0.\n",
      "  0. 0. 0. 0. 0. 0. 0. 0. 0. 0. 0. 0. 0. 0. 0. 0. 0. 0. 0. 0. 0. 0. 0. 0.\n",
      "  0. 0. 0. 0. 0. 0. 0. 0. 0. 0. 0. 0. 0. 0. 0. 0. 0. 0. 0. 0. 0. 0. 0. 0.\n",
      "  0. 0. 0. 0. 0. 0. 0. 0. 0. 0. 0. 0. 0. 0. 0. 0. 0. 0. 0. 0. 0. 0. 0. 0.\n",
      "  0. 0. 0. 0. 0. 0. 0. 0. 0. 0. 0. 0. 0. 0. 0. 0. 0. 0. 0. 0. 0. 0. 0. 0.\n",
      "  0. 0. 0. 0. 0. 0. 0. 0. 0. 0. 0. 0. 0. 0. 0. 0. 0. 0. 0. 0. 0. 0. 0. 0.\n",
      "  0. 0. 0. 0. 0. 0. 0. 0. 0. 0. 0. 0. 0. 0. 0. 0. 0. 0. 0. 0. 0. 0. 0. 0.\n",
      "  0. 0. 0. 0. 0. 0. 0. 0. 0. 0. 0. 0. 0. 0. 0. 0. 0. 0. 0. 0. 0. 0. 0. 0.\n",
      "  0. 0. 0. 0. 0. 0. 0. 0. 0. 0. 0. 0. 0. 0. 0. 0.]]\n"
     ]
    }
   ],
   "source": [
    "# scaler = MinMaxScaler()\n",
    "\n",
    "# scaled_pix_arr = scaler.fit_transform(pix_arr3)\n",
    "\n",
    "# print(scaled_pix_arr)\n"
   ]
  },
  {
   "cell_type": "code",
   "execution_count": 151,
   "metadata": {},
   "outputs": [],
   "source": [
    "pix_arr4 = pix_arr3"
   ]
  },
  {
   "cell_type": "code",
   "execution_count": 152,
   "metadata": {},
   "outputs": [
    {
     "name": "stdout",
     "output_type": "stream",
     "text": [
      "[[ 0  0  0  0  0  0  0  0  0  0  0  0  0  0  0  0  0  0  0  0  0  0  0  0\n",
      "   0  0  0  0  0  0  0  0  0  0  0  0  0  0  0  0  0  0  0  0  0  0  0  0\n",
      "   0  0  0  0  0  0  0  0  0  0  0  0  0  0  0  0  2  1  0  0  0  0  0  0\n",
      "   0  0  0  0  0  0  0  0  0  0  0  0  0  0  0  0  0  0  0  0 32 84 62 61\n",
      "  56 45 34 22 18  2  0  0  0  0  0  0  0  0  0  0  0  0  0  0  0  0  0  0\n",
      "  36 39  3  6 14 27 38 49 60 57  0  0  0  0  0  0  0  0  0  0  0  0  0  0\n",
      "   0  0  0  0 40 31  0  0  0  0  0  0  6 59  0  0  0  0  0  0  0  0  0  0\n",
      "   0  0  0  0  0  0  0  0 51 20  0  0  0  0  0  0  9 58  0  0  0  0  0  0\n",
      "   0  0  0  0  0  0  0  0  0  0  0  0 58 10  0  0  0  0  0  0 15 56  0  0\n",
      "   0  0  0  0  0  0  0  0  0  0  0  0  0  0  0  0 64  2  0  0  0  0  0  0\n",
      "  38 36  0  0  0  0  0  0  0  0  0  0  0  0  0  0  0  0  0  7 62  0  0  0\n",
      "   0  0  0  0 61 11  0  0  0  0  0  0  0  0  0  0  0  0  0  0  0  0  0 23\n",
      "  50  0  0  0  0  0  0  9 62  0  0  0  0  0  0  0  0  0  0  0  0  0  0  0\n",
      "   0  0  0 30 30  0  0  0  0  0  0 35 41  0  0  0  0  0  0  0  0  0  0  0\n",
      "   0  0  0  0  0  0  0  1  1  0  0  0  0  0  0 63  9  0  0  0  0  0  0  0\n",
      "   0  0  0  0  0  0  0  0  0  0  0  0  0  0  0  0  0  0  7 62  0  0  0  0\n",
      "   0  0  0  0  0  0  0  0  0  0  0  0  0  0  0  0  0  0  0  0  0  0 29 45\n",
      "   0  0  0  0  0  0  0  0  0  0  0  0  0  0  0  0  0  0  0  0  0  0  0  0\n",
      "   0  0 50 22  0  0  0  0  0  0  0  0  0  0  0  0  0  0  0  0  0  0  0  0\n",
      "   0  0  0  0  0  0 59 10  0  0  0  0  0  0  0  0  0  0  0  0  0  0  0  0\n",
      "   0  0  0  0  0  0  0  0  0  2 65  2  0  0  0  0  0  0  0  0  0  0  0  0\n",
      "   0  0  0  0  0  0  0  0  0  0  0  0  0 14 57  0  0  0  0  0  0  0  0  0\n",
      "   0  0  0  0  0  0  0  0  0  0  0  0  0  0  0  0  0 17 53  0  0  0  0  0\n",
      "   0  0  0  0  0  0  0  0  0  0  0  0  0  0  0  0  0  0  0  0  0 24 48  0\n",
      "   0  0  0  0  0  0  0  0  0  0  0  0  0  0  0  0  0  0  0  0  0  0  0  0\n",
      "   0 30 44  0  0  0  0  0  0  0  0  0  0  0  0  0  0  0  0  0  0  0  0  0\n",
      "   0  0  0  0  0 53 24  0  0  0  0  0  0  0  0  0  0  0  0  0  0  0  0  0\n",
      "   0  0  0  0  0  0  0  0  0 62  3  0  0  0  0  0  0  0  0  0  0  0  0  0\n",
      "   0  0  0  0  0  0  0  0  0  0  0  0  0  7  0  0  0  0  0  0  0  0  0  0\n",
      "   0  0  0  0  0  0  0  0  0  0  0  0  0  0  0  0  0  0  0  0  0  0  0  0\n",
      "   0  0  0  0  0  0  0  0  0  0  0  0  0  0  0  0  0  0  0  0  0  0  0  0\n",
      "   0  0  0  0  0  0  0  0  0  0  0  0  0  0  0  0  0  0  0  0  0  0  0  0\n",
      "   0  0  0  0  0  0  0  0  0  0  0  0  0  0  0  0]]\n"
     ]
    }
   ],
   "source": [
    "pix_arr4[pix_arr4 == 255] = 0\n",
    "\n",
    "print(pix_arr4)\n",
    "\n"
   ]
  },
  {
   "cell_type": "code",
   "execution_count": 157,
   "metadata": {},
   "outputs": [
    {
     "name": "stdout",
     "output_type": "stream",
     "text": [
      "[[0. 0. 0. 0. 0. 0. 0. 0. 0. 0. 0. 0. 0. 0. 0. 0. 0. 0. 0. 0. 0. 0. 0. 0.\n",
      "  0. 0. 0. 0. 0. 0. 0. 0. 0. 0. 0. 0. 0. 0. 0. 0. 0. 0. 0. 0. 0. 0. 0. 0.\n",
      "  0. 0. 0. 0. 0. 0. 0. 0. 0. 0. 0. 0. 0. 0. 0. 0. 0. 0. 0. 0. 0. 0. 0. 0.\n",
      "  0. 0. 0. 0. 0. 0. 0. 0. 0. 0. 0. 0. 0. 0. 0. 0. 0. 0. 0. 0. 0. 0. 0. 0.\n",
      "  0. 0. 0. 0. 0. 0. 0. 0. 0. 0. 0. 0. 0. 0. 0. 0. 0. 0. 0. 0. 0. 0. 0. 0.\n",
      "  0. 0. 0. 0. 0. 0. 0. 0. 0. 0. 0. 0. 0. 0. 0. 0. 0. 0. 0. 0. 0. 0. 0. 0.\n",
      "  0. 0. 0. 0. 0. 0. 0. 0. 0. 0. 0. 0. 0. 0. 0. 0. 0. 0. 0. 0. 0. 0. 0. 0.\n",
      "  0. 0. 0. 0. 0. 0. 0. 0. 0. 0. 0. 0. 0. 0. 0. 0. 0. 0. 0. 0. 0. 0. 0. 0.\n",
      "  0. 0. 0. 0. 0. 0. 0. 0. 0. 0. 0. 0. 0. 0. 0. 0. 0. 0. 0. 0. 0. 0. 0. 0.\n",
      "  0. 0. 0. 0. 0. 0. 0. 0. 0. 0. 0. 0. 0. 0. 0. 0. 0. 0. 0. 0. 0. 0. 0. 0.\n",
      "  0. 0. 0. 0. 0. 0. 0. 0. 0. 0. 0. 0. 0. 0. 0. 0. 0. 0. 0. 0. 0. 0. 0. 0.\n",
      "  0. 0. 0. 0. 0. 0. 0. 0. 0. 0. 0. 0. 0. 0. 0. 0. 0. 0. 0. 0. 0. 0. 0. 0.\n",
      "  0. 0. 0. 0. 0. 0. 0. 0. 0. 0. 0. 0. 0. 0. 0. 0. 0. 0. 0. 0. 0. 0. 0. 0.\n",
      "  0. 0. 0. 0. 0. 0. 0. 0. 0. 0. 0. 0. 0. 0. 0. 0. 0. 0. 0. 0. 0. 0. 0. 0.\n",
      "  0. 0. 0. 0. 0. 0. 0. 0. 0. 0. 0. 0. 0. 0. 0. 0. 0. 0. 0. 0. 0. 0. 0. 0.\n",
      "  0. 0. 0. 0. 0. 0. 0. 0. 0. 0. 0. 0. 0. 0. 0. 0. 0. 0. 0. 0. 0. 0. 0. 0.\n",
      "  0. 0. 0. 0. 0. 0. 0. 0. 0. 0. 0. 0. 0. 0. 0. 0. 0. 0. 0. 0. 0. 0. 0. 0.\n",
      "  0. 0. 0. 0. 0. 0. 0. 0. 0. 0. 0. 0. 0. 0. 0. 0. 0. 0. 0. 0. 0. 0. 0. 0.\n",
      "  0. 0. 0. 0. 0. 0. 0. 0. 0. 0. 0. 0. 0. 0. 0. 0. 0. 0. 0. 0. 0. 0. 0. 0.\n",
      "  0. 0. 0. 0. 0. 0. 0. 0. 0. 0. 0. 0. 0. 0. 0. 0. 0. 0. 0. 0. 0. 0. 0. 0.\n",
      "  0. 0. 0. 0. 0. 0. 0. 0. 0. 0. 0. 0. 0. 0. 0. 0. 0. 0. 0. 0. 0. 0. 0. 0.\n",
      "  0. 0. 0. 0. 0. 0. 0. 0. 0. 0. 0. 0. 0. 0. 0. 0. 0. 0. 0. 0. 0. 0. 0. 0.\n",
      "  0. 0. 0. 0. 0. 0. 0. 0. 0. 0. 0. 0. 0. 0. 0. 0. 0. 0. 0. 0. 0. 0. 0. 0.\n",
      "  0. 0. 0. 0. 0. 0. 0. 0. 0. 0. 0. 0. 0. 0. 0. 0. 0. 0. 0. 0. 0. 0. 0. 0.\n",
      "  0. 0. 0. 0. 0. 0. 0. 0. 0. 0. 0. 0. 0. 0. 0. 0. 0. 0. 0. 0. 0. 0. 0. 0.\n",
      "  0. 0. 0. 0. 0. 0. 0. 0. 0. 0. 0. 0. 0. 0. 0. 0. 0. 0. 0. 0. 0. 0. 0. 0.\n",
      "  0. 0. 0. 0. 0. 0. 0. 0. 0. 0. 0. 0. 0. 0. 0. 0. 0. 0. 0. 0. 0. 0. 0. 0.\n",
      "  0. 0. 0. 0. 0. 0. 0. 0. 0. 0. 0. 0. 0. 0. 0. 0. 0. 0. 0. 0. 0. 0. 0. 0.\n",
      "  0. 0. 0. 0. 0. 0. 0. 0. 0. 0. 0. 0. 0. 0. 0. 0. 0. 0. 0. 0. 0. 0. 0. 0.\n",
      "  0. 0. 0. 0. 0. 0. 0. 0. 0. 0. 0. 0. 0. 0. 0. 0. 0. 0. 0. 0. 0. 0. 0. 0.\n",
      "  0. 0. 0. 0. 0. 0. 0. 0. 0. 0. 0. 0. 0. 0. 0. 0. 0. 0. 0. 0. 0. 0. 0. 0.\n",
      "  0. 0. 0. 0. 0. 0. 0. 0. 0. 0. 0. 0. 0. 0. 0. 0. 0. 0. 0. 0. 0. 0. 0. 0.\n",
      "  0. 0. 0. 0. 0. 0. 0. 0. 0. 0. 0. 0. 0. 0. 0. 0.]]\n"
     ]
    }
   ],
   "source": [
    "## scaling normalization을 진행\n",
    "scaler = MinMaxScaler()\n",
    "\n",
    "scaled_pix_arr = scaler.fit_transform(pix_arr4)\n",
    "\n",
    "print(scaled_pix_arr)\n"
   ]
  },
  {
   "cell_type": "code",
   "execution_count": 163,
   "metadata": {},
   "outputs": [
    {
     "name": "stdout",
     "output_type": "stream",
     "text": [
      "Predict: [2]\n"
     ]
    },
    {
     "data": {
      "text/plain": [
       "<matplotlib.image.AxesImage at 0x1c082eb59e8>"
      ]
     },
     "execution_count": 163,
     "metadata": {},
     "output_type": "execute_result"
    },
    {
     "data": {
      "image/png": "[encoded data removed]",
      "text/plain": [
       "<Figure size 432x288 with 1 Axes>"
      ]
     },
     "metadata": {
      "needs_background": "light"
     },
     "output_type": "display_data"
    }
   ],
   "source": [
    "# 찍은 이미지를 예측해보자\n",
    "\n",
    "print(\"Predict: {}\".format(sess.run(tf.argmax(H,1), feed_dict={X:pix_arr4}))) \n",
    "\n",
    "plt.imshow(pix_arr4.reshape(28,28)) # \n",
    "\n",
    "#"
   ]
  },
  {
   "cell_type": "code",
   "execution_count": 120,
   "metadata": {},
   "outputs": [
    {
     "data": {
      "text/plain": [
       "<matplotlib.image.AxesImage at 0x1c0839af470>"
      ]
     },
     "execution_count": 120,
     "metadata": {},
     "output_type": "execute_result"
    },
    {
     "data": {
      "image/png": "[encoded data removed]",
      "text/plain": [
       "<Figure size 432x288 with 1 Axes>"
      ]
     },
     "metadata": {
      "needs_background": "light"
     },
     "output_type": "display_data"
    }
   ],
   "source": [
    "plt.imshow(pix_arr) # "
   ]
  },
  {
   "cell_type": "code",
   "execution_count": 105,
   "metadata": {},
   "outputs": [
    {
     "ename": "ValueError",
     "evalue": "cannot reshape array of size 720 into shape (28,28)",
     "output_type": "error",
     "traceback": [
      "\u001b[1;31m---------------------------------------------------------------------------\u001b[0m",
      "\u001b[1;31mValueError\u001b[0m                                Traceback (most recent call last)",
      "\u001b[1;32m<ipython-input-105-dd435ad0a563>\u001b[0m in \u001b[0;36m<module>\u001b[1;34m\u001b[0m\n\u001b[0;32m      1\u001b[0m \u001b[1;31m#pix1 = pix.reshape(1,784)\u001b[0m\u001b[1;33m\u001b[0m\u001b[1;33m\u001b[0m\u001b[1;33m\u001b[0m\u001b[0m\n\u001b[0;32m      2\u001b[0m \u001b[1;33m\u001b[0m\u001b[0m\n\u001b[1;32m----> 3\u001b[1;33m \u001b[0mplt\u001b[0m\u001b[1;33m.\u001b[0m\u001b[0mimshow\u001b[0m\u001b[1;33m(\u001b[0m\u001b[0mpix\u001b[0m\u001b[1;33m[\u001b[0m\u001b[1;36m0\u001b[0m\u001b[1;33m]\u001b[0m\u001b[1;33m.\u001b[0m\u001b[0mreshape\u001b[0m\u001b[1;33m(\u001b[0m\u001b[1;36m28\u001b[0m\u001b[1;33m,\u001b[0m\u001b[1;36m28\u001b[0m\u001b[1;33m)\u001b[0m\u001b[1;33m)\u001b[0m\u001b[1;33m\u001b[0m\u001b[1;33m\u001b[0m\u001b[0m\n\u001b[0m",
      "\u001b[1;31mValueError\u001b[0m: cannot reshape array of size 720 into shape (28,28)"
     ]
    }
   ],
   "source": [
    "#pix1 = pix.reshape(1,784)\n",
    "\n",
    "#plt.imshow(pix[0].reshape(28,28))"
   ]
  }
 ],
 "metadata": {
  "kernelspec": {
   "display_name": "CPU2_ENV",
   "language": "python",
   "name": "cpu2_env"
  },
  "language_info": {
   "codemirror_mode": {
    "name": "ipython",
    "version": 3
   },
   "file_extension": ".py",
   "mimetype": "text/x-python",
   "name": "python",
   "nbconvert_exporter": "python",
   "pygments_lexer": "ipython3",
   "version": "3.6.9"
  }
 },
 "nbformat": 4,
 "nbformat_minor": 2
}
