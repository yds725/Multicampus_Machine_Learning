{
 "cells": [
  {
   "cell_type": "code",
   "execution_count": 2,
   "metadata": {},
   "outputs": [
    {
     "name": "stdout",
     "output_type": "stream",
     "text": [
      "[27.97594664]\n"
     ]
    }
   ],
   "source": [
    "# 다중선형회귀 연습문제\n",
    "# 관측된 Solar.R Wind Temp에 대한 오존량에 대한 데이터를\n",
    "# 이용하여 머신 러닝을 진행하고\n",
    "# 솔라 라 : 170 윈드 : 7.4 템프 : 67 에 대한\n",
    "# 오존 수치 예측  => \n",
    "# 정답에 근사 한 값을 알아봄!\n",
    "# sklearn module을 이용해서 학습 예측 수행\n",
    "\n",
    "from sklearn import linear_model\n",
    "import numpy as np\n",
    "import pandas as pd\n",
    "\n",
    "df = pd.read_csv(\"./data/ozone.csv\")\n",
    "\n",
    "df = df[[\"Ozone\", \"Solar.R\", \"Wind\", \"Temp\"]]\n",
    "df = df.dropna(how=\"any\", inplace = False)\n",
    "\n",
    "new2_df = df\n",
    "\n",
    "new_q1,new_q3 = np.percentile(new2_df[\"Ozone\"],[25,75])\n",
    "\n",
    "new_iqr = new_q3 - new_q1\n",
    "new_upper = new_q3 + new_iqr * 1.5 # 상위 이상치 처리\n",
    "\n",
    "new_mask = new2_df[\"Ozone\"] > new_upper # boolean mask 를 생성 \n",
    "\n",
    "new2_df = new2_df.loc[~new_mask]\n",
    "\n",
    "new_q1,new_q3 = np.percentile(new2_df[\"Wind\"],[25,75])\n",
    "\n",
    "new_iqr = new_q3 - new_q1\n",
    "new_upper = new_q3 + new_iqr * 1.5 # 상위 이상치 처리\n",
    "\n",
    "new_mask = new2_df[\"Wind\"] > new_upper # boolean mask 를 생성 \n",
    "\n",
    "new2_df = new2_df.loc[~new_mask]\n",
    "\n",
    "# machine learning\n",
    "X2 = new2_df[[\"Solar.R\", \"Wind\", \"Temp\"]]\n",
    "Y2 = new2_df[\"Ozone\"]\n",
    "\n",
    "lm = linear_model.LinearRegression()\n",
    "lm.fit(X2,Y2)\n",
    "\n",
    "prediction = lm.predict([[170,7.4,67]])\n",
    "print(prediction)\n",
    "\n",
    "#print(new2_df)\n",
    "#print(new2_df)\n"
   ]
  },
  {
   "cell_type": "code",
   "execution_count": null,
   "metadata": {},
   "outputs": [],
   "source": []
  }
 ],
 "metadata": {
  "kernelspec": {
   "display_name": "CPU2_ENV",
   "language": "python",
   "name": "cpu2_env"
  },
  "language_info": {
   "codemirror_mode": {
    "name": "ipython",
    "version": 3
   },
   "file_extension": ".py",
   "mimetype": "text/x-python",
   "name": "python",
   "nbconvert_exporter": "python",
   "pygments_lexer": "ipython3",
   "version": "3.6.9"
  }
 },
 "nbformat": 4,
 "nbformat_minor": 2
}
